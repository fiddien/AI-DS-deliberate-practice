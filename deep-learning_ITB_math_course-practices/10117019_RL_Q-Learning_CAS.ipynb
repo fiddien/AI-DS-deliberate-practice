{
 "cells": [
  {
   "cell_type": "markdown",
   "metadata": {},
   "source": [
    "# Tugas Pembelajaran Mendalam (MA4072)\n",
    "## Reinforcement Learning: Q-Learning\n",
    "Kamis, 29 April 2021\n",
    "> Membuat agen yang bergerak maju, belok kanan, dan belok kiri dalam lingkungan 2D.\n",
    "\n",
    "> Dibuat oleh Ilma Aliya Fiddien (10117019)."
   ]
  },
  {
   "cell_type": "code",
   "execution_count": 2,
   "metadata": {},
   "outputs": [],
   "source": [
    "import numpy as np\n",
    "import pandas as pd\n",
    "import random\n",
    "from time import time\n",
    "import sys\n",
    "import copy"
   ]
  },
  {
   "cell_type": "code",
   "execution_count": 3,
   "metadata": {},
   "outputs": [
    {
     "output_type": "display_data",
     "data": {
      "text/plain": "<pandas.io.formats.style.Styler at 0x7ffa87ef7b20>",
      "text/html": "<style  type=\"text/css\" >\n#T_530c7bd4_ae05_11eb_9229_d79ce77344b5row0_col0,#T_530c7bd4_ae05_11eb_9229_d79ce77344b5row0_col2,#T_530c7bd4_ae05_11eb_9229_d79ce77344b5row1_col0,#T_530c7bd4_ae05_11eb_9229_d79ce77344b5row2_col0,#T_530c7bd4_ae05_11eb_9229_d79ce77344b5row2_col1,#T_530c7bd4_ae05_11eb_9229_d79ce77344b5row2_col2,#T_530c7bd4_ae05_11eb_9229_d79ce77344b5row3_col2,#T_530c7bd4_ae05_11eb_9229_d79ce77344b5row4_col0,#T_530c7bd4_ae05_11eb_9229_d79ce77344b5row4_col1,#T_530c7bd4_ae05_11eb_9229_d79ce77344b5row4_col2,#T_530c7bd4_ae05_11eb_9229_d79ce77344b5row6_col0,#T_530c7bd4_ae05_11eb_9229_d79ce77344b5row6_col2{\n            color:  red;\n        }#T_530c7bd4_ae05_11eb_9229_d79ce77344b5row0_col1,#T_530c7bd4_ae05_11eb_9229_d79ce77344b5row1_col2,#T_530c7bd4_ae05_11eb_9229_d79ce77344b5row3_col0,#T_530c7bd4_ae05_11eb_9229_d79ce77344b5row5_col0,#T_530c7bd4_ae05_11eb_9229_d79ce77344b5row5_col2,#T_530c7bd4_ae05_11eb_9229_d79ce77344b5row6_col1{\n            color:  green;\n        }#T_530c7bd4_ae05_11eb_9229_d79ce77344b5row1_col1,#T_530c7bd4_ae05_11eb_9229_d79ce77344b5row3_col1,#T_530c7bd4_ae05_11eb_9229_d79ce77344b5row5_col1{\n            color:  black;\n        }</style><table id=\"T_530c7bd4_ae05_11eb_9229_d79ce77344b5\" ><thead>    <tr>        <th class=\"blank level0\" ></th>        <th class=\"col_heading level0 col0\" >0</th>        <th class=\"col_heading level0 col1\" >1</th>        <th class=\"col_heading level0 col2\" >2</th>    </tr></thead><tbody>\n                <tr>\n                        <th id=\"T_530c7bd4_ae05_11eb_9229_d79ce77344b5level0_row0\" class=\"row_heading level0 row0\" >0</th>\n                        <td id=\"T_530c7bd4_ae05_11eb_9229_d79ce77344b5row0_col0\" class=\"data row0 col0\" >H</td>\n                        <td id=\"T_530c7bd4_ae05_11eb_9229_d79ce77344b5row0_col1\" class=\"data row0 col1\" >0</td>\n                        <td id=\"T_530c7bd4_ae05_11eb_9229_d79ce77344b5row0_col2\" class=\"data row0 col2\" >E</td>\n            </tr>\n            <tr>\n                        <th id=\"T_530c7bd4_ae05_11eb_9229_d79ce77344b5level0_row1\" class=\"row_heading level0 row1\" >1</th>\n                        <td id=\"T_530c7bd4_ae05_11eb_9229_d79ce77344b5row1_col0\" class=\"data row1 col0\" >R2</td>\n                        <td id=\"T_530c7bd4_ae05_11eb_9229_d79ce77344b5row1_col1\" class=\"data row1 col1\" >-1</td>\n                        <td id=\"T_530c7bd4_ae05_11eb_9229_d79ce77344b5row1_col2\" class=\"data row1 col2\" >0</td>\n            </tr>\n            <tr>\n                        <th id=\"T_530c7bd4_ae05_11eb_9229_d79ce77344b5level0_row2\" class=\"row_heading level0 row2\" >2</th>\n                        <td id=\"T_530c7bd4_ae05_11eb_9229_d79ce77344b5row2_col0\" class=\"data row2 col0\" >U</td>\n                        <td id=\"T_530c7bd4_ae05_11eb_9229_d79ce77344b5row2_col1\" class=\"data row2 col1\" >L</td>\n                        <td id=\"T_530c7bd4_ae05_11eb_9229_d79ce77344b5row2_col2\" class=\"data row2 col2\" >N</td>\n            </tr>\n            <tr>\n                        <th id=\"T_530c7bd4_ae05_11eb_9229_d79ce77344b5level0_row3\" class=\"row_heading level0 row3\" >3</th>\n                        <td id=\"T_530c7bd4_ae05_11eb_9229_d79ce77344b5row3_col0\" class=\"data row3 col0\" >0</td>\n                        <td id=\"T_530c7bd4_ae05_11eb_9229_d79ce77344b5row3_col1\" class=\"data row3 col1\" >-1</td>\n                        <td id=\"T_530c7bd4_ae05_11eb_9229_d79ce77344b5row3_col2\" class=\"data row3 col2\" >R1</td>\n            </tr>\n            <tr>\n                        <th id=\"T_530c7bd4_ae05_11eb_9229_d79ce77344b5level0_row4\" class=\"row_heading level0 row4\" >4</th>\n                        <td id=\"T_530c7bd4_ae05_11eb_9229_d79ce77344b5row4_col0\" class=\"data row4 col0\" >K</td>\n                        <td id=\"T_530c7bd4_ae05_11eb_9229_d79ce77344b5row4_col1\" class=\"data row4 col1\" >TU</td>\n                        <td id=\"T_530c7bd4_ae05_11eb_9229_d79ce77344b5row4_col2\" class=\"data row4 col2\" >D</td>\n            </tr>\n            <tr>\n                        <th id=\"T_530c7bd4_ae05_11eb_9229_d79ce77344b5level0_row5\" class=\"row_heading level0 row5\" >5</th>\n                        <td id=\"T_530c7bd4_ae05_11eb_9229_d79ce77344b5row5_col0\" class=\"data row5 col0\" >0</td>\n                        <td id=\"T_530c7bd4_ae05_11eb_9229_d79ce77344b5row5_col1\" class=\"data row5 col1\" >-1</td>\n                        <td id=\"T_530c7bd4_ae05_11eb_9229_d79ce77344b5row5_col2\" class=\"data row5 col2\" >0</td>\n            </tr>\n            <tr>\n                        <th id=\"T_530c7bd4_ae05_11eb_9229_d79ce77344b5level0_row6\" class=\"row_heading level0 row6\" >6</th>\n                        <td id=\"T_530c7bd4_ae05_11eb_9229_d79ce77344b5row6_col0\" class=\"data row6 col0\" >I</td>\n                        <td id=\"T_530c7bd4_ae05_11eb_9229_d79ce77344b5row6_col1\" class=\"data row6 col1\" >0</td>\n                        <td id=\"T_530c7bd4_ae05_11eb_9229_d79ce77344b5row6_col2\" class=\"data row6 col2\" >W</td>\n            </tr>\n    </tbody></table>"
     },
     "metadata": {}
    },
    {
     "output_type": "stream",
     "name": "stdout",
     "text": [
      "State yang merupakan ruang kantor:\n {'H': (0, 0), 'E': (0, 2), 'R2': (1, 0), 'U': (2, 0), 'L': (2, 1), 'N': (2, 2), 'R1': (3, 2), 'K': (4, 0), 'TU': (4, 1), 'D': (4, 2), 'I': (6, 0), 'W': (6, 2)}\nState yang bisa dipilih:\n [0, 1, 2, 3, 5, 6, 7, 8, 9, 11, 12, 13, 14, 15, 17, 18, 19, 20]\nBanyaknya state yang bisa dipilih:  18\nBanyak state (total):  21\n"
     ]
    }
   ],
   "source": [
    "# Memodelkan layout sederhana lantai 5 gedung CAS\n",
    "rooms = ['I', 'W', 'K', 'TU', 'D', 'R1', 'U', 'L', 'N', 'R2', 'H', 'E']\n",
    "\n",
    "env = np.array([\n",
    "    ['H',  0, 'E'], # H  E\n",
    "    ['R2', -1,  0], # R2\n",
    "    ['U', 'L','N'], # U L N\n",
    "    [  0, -1,'R1'], # R1\n",
    "    ['K','TU','D'], # K TU D\n",
    "    [   0, -1,  0],\n",
    "    [ 'I',  0,'W'], # I W\n",
    "])\n",
    "\n",
    "reward = np.array([\n",
    "    [  1,0.5,  1,], # H  E\n",
    "    [  1, -1,0.5,], # R2\n",
    "    [  1,  1,  1,], # U L N\n",
    "    [0.5, -1,  1,], # R1\n",
    "    [  1,  1,  1,], # K TU D\n",
    "    [0.5, -1,0.5,],\n",
    "    [  1,0.5,  1,], # I W\n",
    "])\n",
    "\n",
    "def color_env(val):\n",
    "    if val < 0 : color = 'black'\n",
    "    elif val == 1: color = 'green'\n",
    "    else: color = 'red'\n",
    "    return 'color: %s' % color\n",
    "\n",
    "def color_Q(val):\n",
    "    if val != 0: color = 'green'\n",
    "    else: color = 'black'\n",
    "    return 'color: %s' % color\n",
    "\n",
    "def color_env_(val):\n",
    "    if val in rooms : color = 'red'\n",
    "    elif val == '0' : color = 'green'\n",
    "    else: color = 'black'\n",
    "    return 'color: %s' % color\n",
    "\n",
    "# display(pd.DataFrame(reward).style.applymap(color_env))\n",
    "display(pd.DataFrame(env).style.applymap(color_env_))\n",
    "\n",
    "\n",
    "# mendefinisikan pemetaan dari state ke posisi dan sebaliknya\n",
    "state_pos = {}; pos_state = {}\n",
    "k = 0\n",
    "for i in range(reward.shape[0]):\n",
    "    for j in range(reward.shape[1]):\n",
    "        pos_state[k] = (i, j)\n",
    "        state_pos[(i,j)] = k\n",
    "        k += 1\n",
    "        \n",
    "# mendefinisikan pemetaan dari nama ruangan ke posisi dan sebaliknya\n",
    "pos_room = {} ; room_pos = {}\n",
    "actionable_states = []\n",
    "for i in range(reward.shape[0]):\n",
    "    for j in range(reward.shape[1]):\n",
    "        if reward[i,j] >= 0:\n",
    "            actionable_states.append(state_pos[(i,j)])\n",
    "            if env[i,j] in rooms:\n",
    "                pos_room[env[i,j]] = (i,j)\n",
    "                room_pos[(i,j)] = env[i,j]\n",
    "\n",
    "def to_state(x):\n",
    "    if type(x) == tuple:\n",
    "        return state_pos[x]\n",
    "    else:\n",
    "        return state_pos[pos_room[x]]\n",
    "\n",
    "def to_pos(x):\n",
    "    if type(x) == int:\n",
    "        return pos_state[x]\n",
    "    else:\n",
    "        return pos_room[x]\n",
    "    \n",
    "def to_room(x):\n",
    "    if type(x) == tuple:\n",
    "        return room_pos[x]\n",
    "    else:\n",
    "        return room_pos[pos_state[x]]\n",
    "    \n",
    "def reward_reset():\n",
    "    return reward    \n",
    "\n",
    "print(\"State yang merupakan ruang kantor:\\n\", pos_room)\n",
    "print(\"State yang bisa dipilih:\\n\", actionable_states)\n",
    "print(\"Banyaknya state yang bisa dipilih: \",len(actionable_states))\n",
    "print(\"Banyak state (total): \",len(state_pos))"
   ]
  },
  {
   "cell_type": "markdown",
   "metadata": {},
   "source": [
    "Di sini, arah \"maju\", \"belok kanan\", dan \"belok kiri\" akan dipandu oleh empat arah mata angin. Gerakan \"mundur\" atau \"putar balik\" akan dicegah pada pemilihan `action` di algoritma selanjutnya."
   ]
  },
  {
   "cell_type": "code",
   "execution_count": 4,
   "metadata": {},
   "outputs": [],
   "source": [
    "# memetakan kolom tabel Q ke aksi (bilangan bulat)\n",
    "# pemilihan angka-angka aksi untuk mengetahui arah berlawanan\n",
    "A = { 0:-1, # utara/atas\n",
    "      1: 1, # selatan/bawah\n",
    "      2:-2, # barat/kiri\n",
    "      3: 2 }# timur/kanan\n",
    "\n",
    "# untuk keperluan printing\n",
    "direction = { \n",
    "      0: 'utara', \n",
    "      1: 'selatan',\n",
    "      2: 'barat', \n",
    "      3: 'timur' }"
   ]
  },
  {
   "cell_type": "code",
   "execution_count": 5,
   "metadata": {},
   "outputs": [],
   "source": [
    "class Q_learning():\n",
    "    def __init__(self, target, print_status, discount = 0.9, lr = 0.1, epochs = 20000):\n",
    "        self.reward = reward_reset()\n",
    "        x,y = to_pos(target)\n",
    "        self.reward[x, y] = 100\n",
    "        \n",
    "        self.target = to_state(target)\n",
    "        self.table = self.training(discount, lr, epochs, print_status)\n",
    "    \n",
    "    def R(self, pos):\n",
    "        x, y = pos\n",
    "        if x > self.reward.shape[0]-1 or y > self.reward.shape[1]-1 or x < 0 or y < 0:\n",
    "            return -1\n",
    "        else:\n",
    "            return self.reward[x,y]\n",
    "\n",
    "    def q_table_initialize(self):\n",
    "        ''' inisialisasi tabel Q'''\n",
    "        Q = np.zeros((len(pos_state.keys()), len(A)))\n",
    "        return Q\n",
    "\n",
    "    def get_all_possible_next_action(self):\n",
    "        ''' mendaftar semua arah action selanjutnya yang mungkin\n",
    "            pada state sekarang '''\n",
    "        (x, y) = pos_state[self.cur_state]\n",
    "        around = {0: self.R([x-1, y]), \n",
    "                  1: self.R([x+1, y]), \n",
    "                  2: self.R([x, y-1]), \n",
    "                  3: self.R([x, y+1])}\n",
    "        return [k for k,v in around.items() if v >= 0]\n",
    "\n",
    "    def get_next_state(self, action):\n",
    "        ''' mendapatkan state selanjutnya, \n",
    "            diberikan action yang dipilih pada state sekarang '''\n",
    "        (x, y) =  to_pos(self.cur_state)\n",
    "        if action == 0:\n",
    "            return to_state((x-1, y))\n",
    "        elif action == 1:\n",
    "            return to_state((x+1, y))\n",
    "        elif action == 2:\n",
    "            return to_state((x, y-1))\n",
    "        elif action == 3:\n",
    "            return to_state((x, y+1))\n",
    "\n",
    "    def is_finished(self):\n",
    "        ''' mengecek apakah sudah mencapai target '''\n",
    "        return self.cur_state == self.target\n",
    "\n",
    "    def training(self, d, lr, epochs, print_status): \n",
    "        tic = time()\n",
    "        Q = self.q_table_initialize()\n",
    "        for _ in range(epochs):\n",
    "            # memilih tempat memulai latihan\n",
    "            self.cur_state = random.choice(actionable_states)\n",
    "\n",
    "            # ketika belum sampai target\n",
    "            count = 0\n",
    "            while(not self.is_finished()):\n",
    "                # mendapatkan setiap kemungkinan arah aksi selanjutnya\n",
    "                possible_actions = self.get_all_possible_next_action()\n",
    "\n",
    "                # pilih aksi mana saja secara random\n",
    "                backward = True\n",
    "                while(backward): # tapi tidak boleh berbalik arah\n",
    "                    action = random.choice(possible_actions)\n",
    "                    if count == 0 or A[action] != -A[prev_action]:\n",
    "                        backward = False\n",
    "\n",
    "                # menemukan state selanjutnya akibar dari aksi yang dipilih\n",
    "                next_state = self.get_next_state(action)\n",
    "                \n",
    "                s = self.cur_state\n",
    "                # memperbarui tabel Q\n",
    "                TD = self.R(to_pos(s)) + (d * max(Q[s])) - Q[s][action]\n",
    "                Q[s][action] += lr * TD\n",
    "\n",
    "                # lanjut ke state berikutnya\n",
    "                self.cur_state = next_state\n",
    "                prev_action = action\n",
    "                count += 1\n",
    "\n",
    "            # print status\n",
    "            if print_status:\n",
    "                toc = time()\n",
    "                sys.stdout.write(\"\\rEpoch \"+str(_+1)+\" selesai | \"+str(round(toc-tic))+\"s---\")\n",
    "        if print_status:\n",
    "            print(\"\\nSelesai berlatih!\")\n",
    "\n",
    "        return Q\n",
    "\n",
    "\n",
    "    def find_path(self, start):\n",
    "        ''' melakuakan inferensi dengan tabel Q yang telah diisi'''\n",
    "        path = [start]\n",
    "        init_state = to_state(start)\n",
    "        self.cur_state  = init_state\n",
    "        \n",
    "        print(f\"Dari {start} di {to_pos(init_state)}\")\n",
    "        finish = self.target\n",
    "        j = 0\n",
    "        \n",
    "        # jika belum mencapai target\n",
    "        while (self.cur_state != finish):  \n",
    "            \n",
    "            # pilih aksi\n",
    "            s = self.cur_state\n",
    "            action = np.argmax(self.table[s,:])\n",
    "            if j == 0: prev_action = action\n",
    "            if A[action] == -A[prev_action]:\n",
    "                action = self.table[s,:].argsort()[-3:][::-1][1]\n",
    "            \n",
    "            # rekam aksi untuk memori\n",
    "            prev_action = action\n",
    "            \n",
    "            # dapatkan state dari aksi\n",
    "            next_state = self.get_next_state(action) \n",
    "            self.cur_state   = next_state\n",
    "            \n",
    "            # tambahkan state ke lintasan\n",
    "            if pos_state[next_state] in room_pos:\n",
    "                path.append(to_room(next_state))\n",
    "            else:\n",
    "                path.append(to_pos(next_state))\n",
    "            j += 1\n",
    "            print(f\"Langkah ke-{j}, berjalan ke arah {direction[action]}, tiba di {path[-1]}\")\n",
    "            if j > 25:  # belum pernah sampai target\n",
    "                print('Belum sampai target, perbesar epochs!')\n",
    "                break\n",
    "        self.path = path"
   ]
  },
  {
   "cell_type": "markdown",
   "metadata": {},
   "source": [
    "# Contoh"
   ]
  },
  {
   "cell_type": "code",
   "execution_count": 9,
   "metadata": {},
   "outputs": [],
   "source": [
    "discount = 0.9\n",
    "learning_rate = 0.1\n",
    "epochs = 5000\n",
    "args = (discount, learning_rate, epochs)"
   ]
  },
  {
   "cell_type": "markdown",
   "metadata": {},
   "source": [
    "### Mencari lintasan dari ruangan Bu Nuning ke ruangan Pak Hendra"
   ]
  },
  {
   "cell_type": "code",
   "execution_count": 10,
   "metadata": {},
   "outputs": [
    {
     "output_type": "stream",
     "name": "stdout",
     "text": [
      "Epoch 5000 selesai | 1s---\n",
      "Selesai berlatih!\n",
      "Dari N di (2, 2)\n",
      "Langkah ke-1, berjalan ke arah utara, tiba di (1, 2)\n",
      "Langkah ke-2, berjalan ke arah utara, tiba di E\n",
      "Langkah ke-3, berjalan ke arah barat, tiba di (0, 1)\n",
      "Langkah ke-4, berjalan ke arah barat, tiba di H\n"
     ]
    }
   ],
   "source": [
    "awal = 'N'\n",
    "akhir = 'H'\n",
    "Q1 = Q_learning(akhir, True, *args)\n",
    "Q1.find_path(awal)"
   ]
  },
  {
   "cell_type": "markdown",
   "metadata": {},
   "source": [
    "### Mencari lintasan dari ruangan Bu Nuning ke ruangan Pak Hendra, tetapi mampir dulu ke ruangan Pak Wono"
   ]
  },
  {
   "cell_type": "code",
   "execution_count": 11,
   "metadata": {},
   "outputs": [
    {
     "output_type": "stream",
     "name": "stdout",
     "text": [
      "Dari N di (2, 2)\n",
      "Langkah ke-1, berjalan ke arah selatan, tiba di R1\n",
      "Langkah ke-2, berjalan ke arah selatan, tiba di D\n",
      "Langkah ke-3, berjalan ke arah selatan, tiba di (5, 2)\n",
      "Langkah ke-4, berjalan ke arah selatan, tiba di W\n",
      "Dari W di (6, 2)\n",
      "Langkah ke-1, berjalan ke arah barat, tiba di (6, 1)\n",
      "Langkah ke-2, berjalan ke arah barat, tiba di I\n",
      "Langkah ke-3, berjalan ke arah utara, tiba di (5, 0)\n",
      "Langkah ke-4, berjalan ke arah utara, tiba di K\n",
      "Langkah ke-5, berjalan ke arah utara, tiba di (3, 0)\n",
      "Langkah ke-6, berjalan ke arah utara, tiba di U\n",
      "Langkah ke-7, berjalan ke arah utara, tiba di R2\n",
      "Langkah ke-8, berjalan ke arah utara, tiba di H\n"
     ]
    }
   ],
   "source": [
    "awal = 'N'\n",
    "tengah = 'W'\n",
    "akhir = 'H'\n",
    "Q2 = Q_learning(tengah, False, *args)\n",
    "Q2.find_path(awal)\n",
    "Q3 = Q_learning(akhir, False, *args)\n",
    "Q3.find_path(tengah)"
   ]
  },
  {
   "cell_type": "code",
   "execution_count": 12,
   "metadata": {},
   "outputs": [
    {
     "output_type": "display_data",
     "data": {
      "text/plain": "<pandas.io.formats.style.Styler at 0x7ffa86921700>",
      "text/html": "<style  type=\"text/css\" >\n#T_7d9d1db8_ae05_11eb_9229_d79ce77344b5row0_col0,#T_7d9d1db8_ae05_11eb_9229_d79ce77344b5row0_col1,#T_7d9d1db8_ae05_11eb_9229_d79ce77344b5row0_col2,#T_7d9d1db8_ae05_11eb_9229_d79ce77344b5row0_col3,#T_7d9d1db8_ae05_11eb_9229_d79ce77344b5row1_col0,#T_7d9d1db8_ae05_11eb_9229_d79ce77344b5row1_col1,#T_7d9d1db8_ae05_11eb_9229_d79ce77344b5row2_col0,#T_7d9d1db8_ae05_11eb_9229_d79ce77344b5row2_col3,#T_7d9d1db8_ae05_11eb_9229_d79ce77344b5row3_col2,#T_7d9d1db8_ae05_11eb_9229_d79ce77344b5row3_col3,#T_7d9d1db8_ae05_11eb_9229_d79ce77344b5row4_col0,#T_7d9d1db8_ae05_11eb_9229_d79ce77344b5row4_col1,#T_7d9d1db8_ae05_11eb_9229_d79ce77344b5row4_col2,#T_7d9d1db8_ae05_11eb_9229_d79ce77344b5row4_col3,#T_7d9d1db8_ae05_11eb_9229_d79ce77344b5row5_col2,#T_7d9d1db8_ae05_11eb_9229_d79ce77344b5row5_col3,#T_7d9d1db8_ae05_11eb_9229_d79ce77344b5row6_col2,#T_7d9d1db8_ae05_11eb_9229_d79ce77344b5row7_col0,#T_7d9d1db8_ae05_11eb_9229_d79ce77344b5row7_col1,#T_7d9d1db8_ae05_11eb_9229_d79ce77344b5row8_col3,#T_7d9d1db8_ae05_11eb_9229_d79ce77344b5row9_col2,#T_7d9d1db8_ae05_11eb_9229_d79ce77344b5row9_col3,#T_7d9d1db8_ae05_11eb_9229_d79ce77344b5row10_col0,#T_7d9d1db8_ae05_11eb_9229_d79ce77344b5row10_col1,#T_7d9d1db8_ae05_11eb_9229_d79ce77344b5row10_col2,#T_7d9d1db8_ae05_11eb_9229_d79ce77344b5row10_col3,#T_7d9d1db8_ae05_11eb_9229_d79ce77344b5row11_col2,#T_7d9d1db8_ae05_11eb_9229_d79ce77344b5row11_col3,#T_7d9d1db8_ae05_11eb_9229_d79ce77344b5row12_col2,#T_7d9d1db8_ae05_11eb_9229_d79ce77344b5row13_col0,#T_7d9d1db8_ae05_11eb_9229_d79ce77344b5row13_col1,#T_7d9d1db8_ae05_11eb_9229_d79ce77344b5row14_col3,#T_7d9d1db8_ae05_11eb_9229_d79ce77344b5row15_col2,#T_7d9d1db8_ae05_11eb_9229_d79ce77344b5row15_col3,#T_7d9d1db8_ae05_11eb_9229_d79ce77344b5row16_col0,#T_7d9d1db8_ae05_11eb_9229_d79ce77344b5row16_col1,#T_7d9d1db8_ae05_11eb_9229_d79ce77344b5row16_col2,#T_7d9d1db8_ae05_11eb_9229_d79ce77344b5row16_col3,#T_7d9d1db8_ae05_11eb_9229_d79ce77344b5row17_col2,#T_7d9d1db8_ae05_11eb_9229_d79ce77344b5row17_col3,#T_7d9d1db8_ae05_11eb_9229_d79ce77344b5row18_col1,#T_7d9d1db8_ae05_11eb_9229_d79ce77344b5row18_col2,#T_7d9d1db8_ae05_11eb_9229_d79ce77344b5row19_col0,#T_7d9d1db8_ae05_11eb_9229_d79ce77344b5row19_col1,#T_7d9d1db8_ae05_11eb_9229_d79ce77344b5row20_col1,#T_7d9d1db8_ae05_11eb_9229_d79ce77344b5row20_col3{\n            color:  black;\n        }#T_7d9d1db8_ae05_11eb_9229_d79ce77344b5row1_col2,#T_7d9d1db8_ae05_11eb_9229_d79ce77344b5row1_col3,#T_7d9d1db8_ae05_11eb_9229_d79ce77344b5row2_col1,#T_7d9d1db8_ae05_11eb_9229_d79ce77344b5row2_col2,#T_7d9d1db8_ae05_11eb_9229_d79ce77344b5row3_col0,#T_7d9d1db8_ae05_11eb_9229_d79ce77344b5row3_col1,#T_7d9d1db8_ae05_11eb_9229_d79ce77344b5row5_col0,#T_7d9d1db8_ae05_11eb_9229_d79ce77344b5row5_col1,#T_7d9d1db8_ae05_11eb_9229_d79ce77344b5row6_col0,#T_7d9d1db8_ae05_11eb_9229_d79ce77344b5row6_col1,#T_7d9d1db8_ae05_11eb_9229_d79ce77344b5row6_col3,#T_7d9d1db8_ae05_11eb_9229_d79ce77344b5row7_col2,#T_7d9d1db8_ae05_11eb_9229_d79ce77344b5row7_col3,#T_7d9d1db8_ae05_11eb_9229_d79ce77344b5row8_col0,#T_7d9d1db8_ae05_11eb_9229_d79ce77344b5row8_col1,#T_7d9d1db8_ae05_11eb_9229_d79ce77344b5row8_col2,#T_7d9d1db8_ae05_11eb_9229_d79ce77344b5row9_col0,#T_7d9d1db8_ae05_11eb_9229_d79ce77344b5row9_col1,#T_7d9d1db8_ae05_11eb_9229_d79ce77344b5row11_col0,#T_7d9d1db8_ae05_11eb_9229_d79ce77344b5row11_col1,#T_7d9d1db8_ae05_11eb_9229_d79ce77344b5row12_col0,#T_7d9d1db8_ae05_11eb_9229_d79ce77344b5row12_col1,#T_7d9d1db8_ae05_11eb_9229_d79ce77344b5row12_col3,#T_7d9d1db8_ae05_11eb_9229_d79ce77344b5row13_col2,#T_7d9d1db8_ae05_11eb_9229_d79ce77344b5row13_col3,#T_7d9d1db8_ae05_11eb_9229_d79ce77344b5row14_col0,#T_7d9d1db8_ae05_11eb_9229_d79ce77344b5row14_col1,#T_7d9d1db8_ae05_11eb_9229_d79ce77344b5row14_col2,#T_7d9d1db8_ae05_11eb_9229_d79ce77344b5row15_col0,#T_7d9d1db8_ae05_11eb_9229_d79ce77344b5row15_col1,#T_7d9d1db8_ae05_11eb_9229_d79ce77344b5row17_col0,#T_7d9d1db8_ae05_11eb_9229_d79ce77344b5row17_col1,#T_7d9d1db8_ae05_11eb_9229_d79ce77344b5row18_col0,#T_7d9d1db8_ae05_11eb_9229_d79ce77344b5row18_col3,#T_7d9d1db8_ae05_11eb_9229_d79ce77344b5row19_col2,#T_7d9d1db8_ae05_11eb_9229_d79ce77344b5row19_col3,#T_7d9d1db8_ae05_11eb_9229_d79ce77344b5row20_col0,#T_7d9d1db8_ae05_11eb_9229_d79ce77344b5row20_col2{\n            color:  green;\n        }</style><table id=\"T_7d9d1db8_ae05_11eb_9229_d79ce77344b5\" ><thead>    <tr>        <th class=\"blank level0\" ></th>        <th class=\"col_heading level0 col0\" >utara</th>        <th class=\"col_heading level0 col1\" >selatan</th>        <th class=\"col_heading level0 col2\" >barat</th>        <th class=\"col_heading level0 col3\" >timur</th>    </tr></thead><tbody>\n                <tr>\n                        <th id=\"T_7d9d1db8_ae05_11eb_9229_d79ce77344b5level0_row0\" class=\"row_heading level0 row0\" >0</th>\n                        <td id=\"T_7d9d1db8_ae05_11eb_9229_d79ce77344b5row0_col0\" class=\"data row0 col0\" >0.000000</td>\n                        <td id=\"T_7d9d1db8_ae05_11eb_9229_d79ce77344b5row0_col1\" class=\"data row0 col1\" >0.000000</td>\n                        <td id=\"T_7d9d1db8_ae05_11eb_9229_d79ce77344b5row0_col2\" class=\"data row0 col2\" >0.000000</td>\n                        <td id=\"T_7d9d1db8_ae05_11eb_9229_d79ce77344b5row0_col3\" class=\"data row0 col3\" >0.000000</td>\n            </tr>\n            <tr>\n                        <th id=\"T_7d9d1db8_ae05_11eb_9229_d79ce77344b5level0_row1\" class=\"row_heading level0 row1\" >1</th>\n                        <td id=\"T_7d9d1db8_ae05_11eb_9229_d79ce77344b5row1_col0\" class=\"data row1 col0\" >0.000000</td>\n                        <td id=\"T_7d9d1db8_ae05_11eb_9229_d79ce77344b5row1_col1\" class=\"data row1 col1\" >0.000000</td>\n                        <td id=\"T_7d9d1db8_ae05_11eb_9229_d79ce77344b5row1_col2\" class=\"data row1 col2\" >5.000000</td>\n                        <td id=\"T_7d9d1db8_ae05_11eb_9229_d79ce77344b5row1_col3\" class=\"data row1 col3\" >4.999997</td>\n            </tr>\n            <tr>\n                        <th id=\"T_7d9d1db8_ae05_11eb_9229_d79ce77344b5level0_row2\" class=\"row_heading level0 row2\" >2</th>\n                        <td id=\"T_7d9d1db8_ae05_11eb_9229_d79ce77344b5row2_col0\" class=\"data row2 col0\" >0.000000</td>\n                        <td id=\"T_7d9d1db8_ae05_11eb_9229_d79ce77344b5row2_col1\" class=\"data row2 col1\" >10.000000</td>\n                        <td id=\"T_7d9d1db8_ae05_11eb_9229_d79ce77344b5row2_col2\" class=\"data row2 col2\" >10.000000</td>\n                        <td id=\"T_7d9d1db8_ae05_11eb_9229_d79ce77344b5row2_col3\" class=\"data row2 col3\" >0.000000</td>\n            </tr>\n            <tr>\n                        <th id=\"T_7d9d1db8_ae05_11eb_9229_d79ce77344b5level0_row3\" class=\"row_heading level0 row3\" >3</th>\n                        <td id=\"T_7d9d1db8_ae05_11eb_9229_d79ce77344b5row3_col0\" class=\"data row3 col0\" >10.000000</td>\n                        <td id=\"T_7d9d1db8_ae05_11eb_9229_d79ce77344b5row3_col1\" class=\"data row3 col1\" >9.999956</td>\n                        <td id=\"T_7d9d1db8_ae05_11eb_9229_d79ce77344b5row3_col2\" class=\"data row3 col2\" >0.000000</td>\n                        <td id=\"T_7d9d1db8_ae05_11eb_9229_d79ce77344b5row3_col3\" class=\"data row3 col3\" >0.000000</td>\n            </tr>\n            <tr>\n                        <th id=\"T_7d9d1db8_ae05_11eb_9229_d79ce77344b5level0_row4\" class=\"row_heading level0 row4\" >4</th>\n                        <td id=\"T_7d9d1db8_ae05_11eb_9229_d79ce77344b5row4_col0\" class=\"data row4 col0\" >0.000000</td>\n                        <td id=\"T_7d9d1db8_ae05_11eb_9229_d79ce77344b5row4_col1\" class=\"data row4 col1\" >0.000000</td>\n                        <td id=\"T_7d9d1db8_ae05_11eb_9229_d79ce77344b5row4_col2\" class=\"data row4 col2\" >0.000000</td>\n                        <td id=\"T_7d9d1db8_ae05_11eb_9229_d79ce77344b5row4_col3\" class=\"data row4 col3\" >0.000000</td>\n            </tr>\n            <tr>\n                        <th id=\"T_7d9d1db8_ae05_11eb_9229_d79ce77344b5level0_row5\" class=\"row_heading level0 row5\" >5</th>\n                        <td id=\"T_7d9d1db8_ae05_11eb_9229_d79ce77344b5row5_col0\" class=\"data row5 col0\" >5.000000</td>\n                        <td id=\"T_7d9d1db8_ae05_11eb_9229_d79ce77344b5row5_col1\" class=\"data row5 col1\" >5.000000</td>\n                        <td id=\"T_7d9d1db8_ae05_11eb_9229_d79ce77344b5row5_col2\" class=\"data row5 col2\" >0.000000</td>\n                        <td id=\"T_7d9d1db8_ae05_11eb_9229_d79ce77344b5row5_col3\" class=\"data row5 col3\" >0.000000</td>\n            </tr>\n            <tr>\n                        <th id=\"T_7d9d1db8_ae05_11eb_9229_d79ce77344b5level0_row6\" class=\"row_heading level0 row6\" >6</th>\n                        <td id=\"T_7d9d1db8_ae05_11eb_9229_d79ce77344b5row6_col0\" class=\"data row6 col0\" >10.000000</td>\n                        <td id=\"T_7d9d1db8_ae05_11eb_9229_d79ce77344b5row6_col1\" class=\"data row6 col1\" >10.000000</td>\n                        <td id=\"T_7d9d1db8_ae05_11eb_9229_d79ce77344b5row6_col2\" class=\"data row6 col2\" >0.000000</td>\n                        <td id=\"T_7d9d1db8_ae05_11eb_9229_d79ce77344b5row6_col3\" class=\"data row6 col3\" >10.000000</td>\n            </tr>\n            <tr>\n                        <th id=\"T_7d9d1db8_ae05_11eb_9229_d79ce77344b5level0_row7\" class=\"row_heading level0 row7\" >7</th>\n                        <td id=\"T_7d9d1db8_ae05_11eb_9229_d79ce77344b5row7_col0\" class=\"data row7 col0\" >0.000000</td>\n                        <td id=\"T_7d9d1db8_ae05_11eb_9229_d79ce77344b5row7_col1\" class=\"data row7 col1\" >0.000000</td>\n                        <td id=\"T_7d9d1db8_ae05_11eb_9229_d79ce77344b5row7_col2\" class=\"data row7 col2\" >10.000000</td>\n                        <td id=\"T_7d9d1db8_ae05_11eb_9229_d79ce77344b5row7_col3\" class=\"data row7 col3\" >10.000000</td>\n            </tr>\n            <tr>\n                        <th id=\"T_7d9d1db8_ae05_11eb_9229_d79ce77344b5level0_row8\" class=\"row_heading level0 row8\" >8</th>\n                        <td id=\"T_7d9d1db8_ae05_11eb_9229_d79ce77344b5row8_col0\" class=\"data row8 col0\" >10.000000</td>\n                        <td id=\"T_7d9d1db8_ae05_11eb_9229_d79ce77344b5row8_col1\" class=\"data row8 col1\" >10.000000</td>\n                        <td id=\"T_7d9d1db8_ae05_11eb_9229_d79ce77344b5row8_col2\" class=\"data row8 col2\" >10.000000</td>\n                        <td id=\"T_7d9d1db8_ae05_11eb_9229_d79ce77344b5row8_col3\" class=\"data row8 col3\" >0.000000</td>\n            </tr>\n            <tr>\n                        <th id=\"T_7d9d1db8_ae05_11eb_9229_d79ce77344b5level0_row9\" class=\"row_heading level0 row9\" >9</th>\n                        <td id=\"T_7d9d1db8_ae05_11eb_9229_d79ce77344b5row9_col0\" class=\"data row9 col0\" >5.000000</td>\n                        <td id=\"T_7d9d1db8_ae05_11eb_9229_d79ce77344b5row9_col1\" class=\"data row9 col1\" >5.000000</td>\n                        <td id=\"T_7d9d1db8_ae05_11eb_9229_d79ce77344b5row9_col2\" class=\"data row9 col2\" >0.000000</td>\n                        <td id=\"T_7d9d1db8_ae05_11eb_9229_d79ce77344b5row9_col3\" class=\"data row9 col3\" >0.000000</td>\n            </tr>\n            <tr>\n                        <th id=\"T_7d9d1db8_ae05_11eb_9229_d79ce77344b5level0_row10\" class=\"row_heading level0 row10\" >10</th>\n                        <td id=\"T_7d9d1db8_ae05_11eb_9229_d79ce77344b5row10_col0\" class=\"data row10 col0\" >0.000000</td>\n                        <td id=\"T_7d9d1db8_ae05_11eb_9229_d79ce77344b5row10_col1\" class=\"data row10 col1\" >0.000000</td>\n                        <td id=\"T_7d9d1db8_ae05_11eb_9229_d79ce77344b5row10_col2\" class=\"data row10 col2\" >0.000000</td>\n                        <td id=\"T_7d9d1db8_ae05_11eb_9229_d79ce77344b5row10_col3\" class=\"data row10 col3\" >0.000000</td>\n            </tr>\n            <tr>\n                        <th id=\"T_7d9d1db8_ae05_11eb_9229_d79ce77344b5level0_row11\" class=\"row_heading level0 row11\" >11</th>\n                        <td id=\"T_7d9d1db8_ae05_11eb_9229_d79ce77344b5row11_col0\" class=\"data row11 col0\" >10.000000</td>\n                        <td id=\"T_7d9d1db8_ae05_11eb_9229_d79ce77344b5row11_col1\" class=\"data row11 col1\" >10.000000</td>\n                        <td id=\"T_7d9d1db8_ae05_11eb_9229_d79ce77344b5row11_col2\" class=\"data row11 col2\" >0.000000</td>\n                        <td id=\"T_7d9d1db8_ae05_11eb_9229_d79ce77344b5row11_col3\" class=\"data row11 col3\" >0.000000</td>\n            </tr>\n            <tr>\n                        <th id=\"T_7d9d1db8_ae05_11eb_9229_d79ce77344b5level0_row12\" class=\"row_heading level0 row12\" >12</th>\n                        <td id=\"T_7d9d1db8_ae05_11eb_9229_d79ce77344b5row12_col0\" class=\"data row12 col0\" >10.000000</td>\n                        <td id=\"T_7d9d1db8_ae05_11eb_9229_d79ce77344b5row12_col1\" class=\"data row12 col1\" >10.000000</td>\n                        <td id=\"T_7d9d1db8_ae05_11eb_9229_d79ce77344b5row12_col2\" class=\"data row12 col2\" >0.000000</td>\n                        <td id=\"T_7d9d1db8_ae05_11eb_9229_d79ce77344b5row12_col3\" class=\"data row12 col3\" >10.000000</td>\n            </tr>\n            <tr>\n                        <th id=\"T_7d9d1db8_ae05_11eb_9229_d79ce77344b5level0_row13\" class=\"row_heading level0 row13\" >13</th>\n                        <td id=\"T_7d9d1db8_ae05_11eb_9229_d79ce77344b5row13_col0\" class=\"data row13 col0\" >0.000000</td>\n                        <td id=\"T_7d9d1db8_ae05_11eb_9229_d79ce77344b5row13_col1\" class=\"data row13 col1\" >0.000000</td>\n                        <td id=\"T_7d9d1db8_ae05_11eb_9229_d79ce77344b5row13_col2\" class=\"data row13 col2\" >10.000000</td>\n                        <td id=\"T_7d9d1db8_ae05_11eb_9229_d79ce77344b5row13_col3\" class=\"data row13 col3\" >10.000000</td>\n            </tr>\n            <tr>\n                        <th id=\"T_7d9d1db8_ae05_11eb_9229_d79ce77344b5level0_row14\" class=\"row_heading level0 row14\" >14</th>\n                        <td id=\"T_7d9d1db8_ae05_11eb_9229_d79ce77344b5row14_col0\" class=\"data row14 col0\" >10.000000</td>\n                        <td id=\"T_7d9d1db8_ae05_11eb_9229_d79ce77344b5row14_col1\" class=\"data row14 col1\" >10.000000</td>\n                        <td id=\"T_7d9d1db8_ae05_11eb_9229_d79ce77344b5row14_col2\" class=\"data row14 col2\" >10.000000</td>\n                        <td id=\"T_7d9d1db8_ae05_11eb_9229_d79ce77344b5row14_col3\" class=\"data row14 col3\" >0.000000</td>\n            </tr>\n            <tr>\n                        <th id=\"T_7d9d1db8_ae05_11eb_9229_d79ce77344b5level0_row15\" class=\"row_heading level0 row15\" >15</th>\n                        <td id=\"T_7d9d1db8_ae05_11eb_9229_d79ce77344b5row15_col0\" class=\"data row15 col0\" >5.000000</td>\n                        <td id=\"T_7d9d1db8_ae05_11eb_9229_d79ce77344b5row15_col1\" class=\"data row15 col1\" >5.000000</td>\n                        <td id=\"T_7d9d1db8_ae05_11eb_9229_d79ce77344b5row15_col2\" class=\"data row15 col2\" >0.000000</td>\n                        <td id=\"T_7d9d1db8_ae05_11eb_9229_d79ce77344b5row15_col3\" class=\"data row15 col3\" >0.000000</td>\n            </tr>\n            <tr>\n                        <th id=\"T_7d9d1db8_ae05_11eb_9229_d79ce77344b5level0_row16\" class=\"row_heading level0 row16\" >16</th>\n                        <td id=\"T_7d9d1db8_ae05_11eb_9229_d79ce77344b5row16_col0\" class=\"data row16 col0\" >0.000000</td>\n                        <td id=\"T_7d9d1db8_ae05_11eb_9229_d79ce77344b5row16_col1\" class=\"data row16 col1\" >0.000000</td>\n                        <td id=\"T_7d9d1db8_ae05_11eb_9229_d79ce77344b5row16_col2\" class=\"data row16 col2\" >0.000000</td>\n                        <td id=\"T_7d9d1db8_ae05_11eb_9229_d79ce77344b5row16_col3\" class=\"data row16 col3\" >0.000000</td>\n            </tr>\n            <tr>\n                        <th id=\"T_7d9d1db8_ae05_11eb_9229_d79ce77344b5level0_row17\" class=\"row_heading level0 row17\" >17</th>\n                        <td id=\"T_7d9d1db8_ae05_11eb_9229_d79ce77344b5row17_col0\" class=\"data row17 col0\" >5.000000</td>\n                        <td id=\"T_7d9d1db8_ae05_11eb_9229_d79ce77344b5row17_col1\" class=\"data row17 col1\" >5.000000</td>\n                        <td id=\"T_7d9d1db8_ae05_11eb_9229_d79ce77344b5row17_col2\" class=\"data row17 col2\" >0.000000</td>\n                        <td id=\"T_7d9d1db8_ae05_11eb_9229_d79ce77344b5row17_col3\" class=\"data row17 col3\" >0.000000</td>\n            </tr>\n            <tr>\n                        <th id=\"T_7d9d1db8_ae05_11eb_9229_d79ce77344b5level0_row18\" class=\"row_heading level0 row18\" >18</th>\n                        <td id=\"T_7d9d1db8_ae05_11eb_9229_d79ce77344b5row18_col0\" class=\"data row18 col0\" >10.000000</td>\n                        <td id=\"T_7d9d1db8_ae05_11eb_9229_d79ce77344b5row18_col1\" class=\"data row18 col1\" >0.000000</td>\n                        <td id=\"T_7d9d1db8_ae05_11eb_9229_d79ce77344b5row18_col2\" class=\"data row18 col2\" >0.000000</td>\n                        <td id=\"T_7d9d1db8_ae05_11eb_9229_d79ce77344b5row18_col3\" class=\"data row18 col3\" >10.000000</td>\n            </tr>\n            <tr>\n                        <th id=\"T_7d9d1db8_ae05_11eb_9229_d79ce77344b5level0_row19\" class=\"row_heading level0 row19\" >19</th>\n                        <td id=\"T_7d9d1db8_ae05_11eb_9229_d79ce77344b5row19_col0\" class=\"data row19 col0\" >0.000000</td>\n                        <td id=\"T_7d9d1db8_ae05_11eb_9229_d79ce77344b5row19_col1\" class=\"data row19 col1\" >0.000000</td>\n                        <td id=\"T_7d9d1db8_ae05_11eb_9229_d79ce77344b5row19_col2\" class=\"data row19 col2\" >5.000000</td>\n                        <td id=\"T_7d9d1db8_ae05_11eb_9229_d79ce77344b5row19_col3\" class=\"data row19 col3\" >5.000000</td>\n            </tr>\n            <tr>\n                        <th id=\"T_7d9d1db8_ae05_11eb_9229_d79ce77344b5level0_row20\" class=\"row_heading level0 row20\" >20</th>\n                        <td id=\"T_7d9d1db8_ae05_11eb_9229_d79ce77344b5row20_col0\" class=\"data row20 col0\" >1000.000000</td>\n                        <td id=\"T_7d9d1db8_ae05_11eb_9229_d79ce77344b5row20_col1\" class=\"data row20 col1\" >0.000000</td>\n                        <td id=\"T_7d9d1db8_ae05_11eb_9229_d79ce77344b5row20_col2\" class=\"data row20 col2\" >1000.000000</td>\n                        <td id=\"T_7d9d1db8_ae05_11eb_9229_d79ce77344b5row20_col3\" class=\"data row20 col3\" >0.000000</td>\n            </tr>\n    </tbody></table>"
     },
     "metadata": {}
    },
    {
     "output_type": "display_data",
     "data": {
      "text/plain": "<pandas.io.formats.style.Styler at 0x7ffa86921b20>",
      "text/html": "<style  type=\"text/css\" >\n#T_7da0b4be_ae05_11eb_9229_d79ce77344b5row0_col0,#T_7da0b4be_ae05_11eb_9229_d79ce77344b5row0_col2,#T_7da0b4be_ae05_11eb_9229_d79ce77344b5row1_col0,#T_7da0b4be_ae05_11eb_9229_d79ce77344b5row1_col1,#T_7da0b4be_ae05_11eb_9229_d79ce77344b5row2_col0,#T_7da0b4be_ae05_11eb_9229_d79ce77344b5row2_col3,#T_7da0b4be_ae05_11eb_9229_d79ce77344b5row3_col2,#T_7da0b4be_ae05_11eb_9229_d79ce77344b5row3_col3,#T_7da0b4be_ae05_11eb_9229_d79ce77344b5row4_col0,#T_7da0b4be_ae05_11eb_9229_d79ce77344b5row4_col1,#T_7da0b4be_ae05_11eb_9229_d79ce77344b5row4_col2,#T_7da0b4be_ae05_11eb_9229_d79ce77344b5row4_col3,#T_7da0b4be_ae05_11eb_9229_d79ce77344b5row5_col2,#T_7da0b4be_ae05_11eb_9229_d79ce77344b5row5_col3,#T_7da0b4be_ae05_11eb_9229_d79ce77344b5row6_col2,#T_7da0b4be_ae05_11eb_9229_d79ce77344b5row7_col0,#T_7da0b4be_ae05_11eb_9229_d79ce77344b5row7_col1,#T_7da0b4be_ae05_11eb_9229_d79ce77344b5row8_col3,#T_7da0b4be_ae05_11eb_9229_d79ce77344b5row9_col2,#T_7da0b4be_ae05_11eb_9229_d79ce77344b5row9_col3,#T_7da0b4be_ae05_11eb_9229_d79ce77344b5row10_col0,#T_7da0b4be_ae05_11eb_9229_d79ce77344b5row10_col1,#T_7da0b4be_ae05_11eb_9229_d79ce77344b5row10_col2,#T_7da0b4be_ae05_11eb_9229_d79ce77344b5row10_col3,#T_7da0b4be_ae05_11eb_9229_d79ce77344b5row11_col2,#T_7da0b4be_ae05_11eb_9229_d79ce77344b5row11_col3,#T_7da0b4be_ae05_11eb_9229_d79ce77344b5row12_col2,#T_7da0b4be_ae05_11eb_9229_d79ce77344b5row13_col0,#T_7da0b4be_ae05_11eb_9229_d79ce77344b5row13_col1,#T_7da0b4be_ae05_11eb_9229_d79ce77344b5row14_col3,#T_7da0b4be_ae05_11eb_9229_d79ce77344b5row15_col2,#T_7da0b4be_ae05_11eb_9229_d79ce77344b5row15_col3,#T_7da0b4be_ae05_11eb_9229_d79ce77344b5row16_col0,#T_7da0b4be_ae05_11eb_9229_d79ce77344b5row16_col1,#T_7da0b4be_ae05_11eb_9229_d79ce77344b5row16_col2,#T_7da0b4be_ae05_11eb_9229_d79ce77344b5row16_col3,#T_7da0b4be_ae05_11eb_9229_d79ce77344b5row17_col2,#T_7da0b4be_ae05_11eb_9229_d79ce77344b5row17_col3,#T_7da0b4be_ae05_11eb_9229_d79ce77344b5row18_col1,#T_7da0b4be_ae05_11eb_9229_d79ce77344b5row18_col2,#T_7da0b4be_ae05_11eb_9229_d79ce77344b5row19_col0,#T_7da0b4be_ae05_11eb_9229_d79ce77344b5row19_col1,#T_7da0b4be_ae05_11eb_9229_d79ce77344b5row20_col0,#T_7da0b4be_ae05_11eb_9229_d79ce77344b5row20_col1,#T_7da0b4be_ae05_11eb_9229_d79ce77344b5row20_col2,#T_7da0b4be_ae05_11eb_9229_d79ce77344b5row20_col3{\n            color:  black;\n        }#T_7da0b4be_ae05_11eb_9229_d79ce77344b5row0_col1,#T_7da0b4be_ae05_11eb_9229_d79ce77344b5row0_col3,#T_7da0b4be_ae05_11eb_9229_d79ce77344b5row1_col2,#T_7da0b4be_ae05_11eb_9229_d79ce77344b5row1_col3,#T_7da0b4be_ae05_11eb_9229_d79ce77344b5row2_col1,#T_7da0b4be_ae05_11eb_9229_d79ce77344b5row2_col2,#T_7da0b4be_ae05_11eb_9229_d79ce77344b5row3_col0,#T_7da0b4be_ae05_11eb_9229_d79ce77344b5row3_col1,#T_7da0b4be_ae05_11eb_9229_d79ce77344b5row5_col0,#T_7da0b4be_ae05_11eb_9229_d79ce77344b5row5_col1,#T_7da0b4be_ae05_11eb_9229_d79ce77344b5row6_col0,#T_7da0b4be_ae05_11eb_9229_d79ce77344b5row6_col1,#T_7da0b4be_ae05_11eb_9229_d79ce77344b5row6_col3,#T_7da0b4be_ae05_11eb_9229_d79ce77344b5row7_col2,#T_7da0b4be_ae05_11eb_9229_d79ce77344b5row7_col3,#T_7da0b4be_ae05_11eb_9229_d79ce77344b5row8_col0,#T_7da0b4be_ae05_11eb_9229_d79ce77344b5row8_col1,#T_7da0b4be_ae05_11eb_9229_d79ce77344b5row8_col2,#T_7da0b4be_ae05_11eb_9229_d79ce77344b5row9_col0,#T_7da0b4be_ae05_11eb_9229_d79ce77344b5row9_col1,#T_7da0b4be_ae05_11eb_9229_d79ce77344b5row11_col0,#T_7da0b4be_ae05_11eb_9229_d79ce77344b5row11_col1,#T_7da0b4be_ae05_11eb_9229_d79ce77344b5row12_col0,#T_7da0b4be_ae05_11eb_9229_d79ce77344b5row12_col1,#T_7da0b4be_ae05_11eb_9229_d79ce77344b5row12_col3,#T_7da0b4be_ae05_11eb_9229_d79ce77344b5row13_col2,#T_7da0b4be_ae05_11eb_9229_d79ce77344b5row13_col3,#T_7da0b4be_ae05_11eb_9229_d79ce77344b5row14_col0,#T_7da0b4be_ae05_11eb_9229_d79ce77344b5row14_col1,#T_7da0b4be_ae05_11eb_9229_d79ce77344b5row14_col2,#T_7da0b4be_ae05_11eb_9229_d79ce77344b5row15_col0,#T_7da0b4be_ae05_11eb_9229_d79ce77344b5row15_col1,#T_7da0b4be_ae05_11eb_9229_d79ce77344b5row17_col0,#T_7da0b4be_ae05_11eb_9229_d79ce77344b5row17_col1,#T_7da0b4be_ae05_11eb_9229_d79ce77344b5row18_col0,#T_7da0b4be_ae05_11eb_9229_d79ce77344b5row18_col3,#T_7da0b4be_ae05_11eb_9229_d79ce77344b5row19_col2,#T_7da0b4be_ae05_11eb_9229_d79ce77344b5row19_col3{\n            color:  green;\n        }</style><table id=\"T_7da0b4be_ae05_11eb_9229_d79ce77344b5\" ><thead>    <tr>        <th class=\"blank level0\" ></th>        <th class=\"col_heading level0 col0\" >utara</th>        <th class=\"col_heading level0 col1\" >selatan</th>        <th class=\"col_heading level0 col2\" >barat</th>        <th class=\"col_heading level0 col3\" >timur</th>    </tr></thead><tbody>\n                <tr>\n                        <th id=\"T_7da0b4be_ae05_11eb_9229_d79ce77344b5level0_row0\" class=\"row_heading level0 row0\" >0</th>\n                        <td id=\"T_7da0b4be_ae05_11eb_9229_d79ce77344b5row0_col0\" class=\"data row0 col0\" >0.000000</td>\n                        <td id=\"T_7da0b4be_ae05_11eb_9229_d79ce77344b5row0_col1\" class=\"data row0 col1\" >1000.000000</td>\n                        <td id=\"T_7da0b4be_ae05_11eb_9229_d79ce77344b5row0_col2\" class=\"data row0 col2\" >0.000000</td>\n                        <td id=\"T_7da0b4be_ae05_11eb_9229_d79ce77344b5row0_col3\" class=\"data row0 col3\" >1000.000000</td>\n            </tr>\n            <tr>\n                        <th id=\"T_7da0b4be_ae05_11eb_9229_d79ce77344b5level0_row1\" class=\"row_heading level0 row1\" >1</th>\n                        <td id=\"T_7da0b4be_ae05_11eb_9229_d79ce77344b5row1_col0\" class=\"data row1 col0\" >0.000000</td>\n                        <td id=\"T_7da0b4be_ae05_11eb_9229_d79ce77344b5row1_col1\" class=\"data row1 col1\" >0.000000</td>\n                        <td id=\"T_7da0b4be_ae05_11eb_9229_d79ce77344b5row1_col2\" class=\"data row1 col2\" >5.000000</td>\n                        <td id=\"T_7da0b4be_ae05_11eb_9229_d79ce77344b5row1_col3\" class=\"data row1 col3\" >5.000000</td>\n            </tr>\n            <tr>\n                        <th id=\"T_7da0b4be_ae05_11eb_9229_d79ce77344b5level0_row2\" class=\"row_heading level0 row2\" >2</th>\n                        <td id=\"T_7da0b4be_ae05_11eb_9229_d79ce77344b5row2_col0\" class=\"data row2 col0\" >0.000000</td>\n                        <td id=\"T_7da0b4be_ae05_11eb_9229_d79ce77344b5row2_col1\" class=\"data row2 col1\" >10.000000</td>\n                        <td id=\"T_7da0b4be_ae05_11eb_9229_d79ce77344b5row2_col2\" class=\"data row2 col2\" >10.000000</td>\n                        <td id=\"T_7da0b4be_ae05_11eb_9229_d79ce77344b5row2_col3\" class=\"data row2 col3\" >0.000000</td>\n            </tr>\n            <tr>\n                        <th id=\"T_7da0b4be_ae05_11eb_9229_d79ce77344b5level0_row3\" class=\"row_heading level0 row3\" >3</th>\n                        <td id=\"T_7da0b4be_ae05_11eb_9229_d79ce77344b5row3_col0\" class=\"data row3 col0\" >10.000000</td>\n                        <td id=\"T_7da0b4be_ae05_11eb_9229_d79ce77344b5row3_col1\" class=\"data row3 col1\" >10.000000</td>\n                        <td id=\"T_7da0b4be_ae05_11eb_9229_d79ce77344b5row3_col2\" class=\"data row3 col2\" >0.000000</td>\n                        <td id=\"T_7da0b4be_ae05_11eb_9229_d79ce77344b5row3_col3\" class=\"data row3 col3\" >0.000000</td>\n            </tr>\n            <tr>\n                        <th id=\"T_7da0b4be_ae05_11eb_9229_d79ce77344b5level0_row4\" class=\"row_heading level0 row4\" >4</th>\n                        <td id=\"T_7da0b4be_ae05_11eb_9229_d79ce77344b5row4_col0\" class=\"data row4 col0\" >0.000000</td>\n                        <td id=\"T_7da0b4be_ae05_11eb_9229_d79ce77344b5row4_col1\" class=\"data row4 col1\" >0.000000</td>\n                        <td id=\"T_7da0b4be_ae05_11eb_9229_d79ce77344b5row4_col2\" class=\"data row4 col2\" >0.000000</td>\n                        <td id=\"T_7da0b4be_ae05_11eb_9229_d79ce77344b5row4_col3\" class=\"data row4 col3\" >0.000000</td>\n            </tr>\n            <tr>\n                        <th id=\"T_7da0b4be_ae05_11eb_9229_d79ce77344b5level0_row5\" class=\"row_heading level0 row5\" >5</th>\n                        <td id=\"T_7da0b4be_ae05_11eb_9229_d79ce77344b5row5_col0\" class=\"data row5 col0\" >5.000000</td>\n                        <td id=\"T_7da0b4be_ae05_11eb_9229_d79ce77344b5row5_col1\" class=\"data row5 col1\" >5.000000</td>\n                        <td id=\"T_7da0b4be_ae05_11eb_9229_d79ce77344b5row5_col2\" class=\"data row5 col2\" >0.000000</td>\n                        <td id=\"T_7da0b4be_ae05_11eb_9229_d79ce77344b5row5_col3\" class=\"data row5 col3\" >0.000000</td>\n            </tr>\n            <tr>\n                        <th id=\"T_7da0b4be_ae05_11eb_9229_d79ce77344b5level0_row6\" class=\"row_heading level0 row6\" >6</th>\n                        <td id=\"T_7da0b4be_ae05_11eb_9229_d79ce77344b5row6_col0\" class=\"data row6 col0\" >10.000000</td>\n                        <td id=\"T_7da0b4be_ae05_11eb_9229_d79ce77344b5row6_col1\" class=\"data row6 col1\" >10.000000</td>\n                        <td id=\"T_7da0b4be_ae05_11eb_9229_d79ce77344b5row6_col2\" class=\"data row6 col2\" >0.000000</td>\n                        <td id=\"T_7da0b4be_ae05_11eb_9229_d79ce77344b5row6_col3\" class=\"data row6 col3\" >10.000000</td>\n            </tr>\n            <tr>\n                        <th id=\"T_7da0b4be_ae05_11eb_9229_d79ce77344b5level0_row7\" class=\"row_heading level0 row7\" >7</th>\n                        <td id=\"T_7da0b4be_ae05_11eb_9229_d79ce77344b5row7_col0\" class=\"data row7 col0\" >0.000000</td>\n                        <td id=\"T_7da0b4be_ae05_11eb_9229_d79ce77344b5row7_col1\" class=\"data row7 col1\" >0.000000</td>\n                        <td id=\"T_7da0b4be_ae05_11eb_9229_d79ce77344b5row7_col2\" class=\"data row7 col2\" >10.000000</td>\n                        <td id=\"T_7da0b4be_ae05_11eb_9229_d79ce77344b5row7_col3\" class=\"data row7 col3\" >10.000000</td>\n            </tr>\n            <tr>\n                        <th id=\"T_7da0b4be_ae05_11eb_9229_d79ce77344b5level0_row8\" class=\"row_heading level0 row8\" >8</th>\n                        <td id=\"T_7da0b4be_ae05_11eb_9229_d79ce77344b5row8_col0\" class=\"data row8 col0\" >10.000000</td>\n                        <td id=\"T_7da0b4be_ae05_11eb_9229_d79ce77344b5row8_col1\" class=\"data row8 col1\" >10.000000</td>\n                        <td id=\"T_7da0b4be_ae05_11eb_9229_d79ce77344b5row8_col2\" class=\"data row8 col2\" >10.000000</td>\n                        <td id=\"T_7da0b4be_ae05_11eb_9229_d79ce77344b5row8_col3\" class=\"data row8 col3\" >0.000000</td>\n            </tr>\n            <tr>\n                        <th id=\"T_7da0b4be_ae05_11eb_9229_d79ce77344b5level0_row9\" class=\"row_heading level0 row9\" >9</th>\n                        <td id=\"T_7da0b4be_ae05_11eb_9229_d79ce77344b5row9_col0\" class=\"data row9 col0\" >5.000000</td>\n                        <td id=\"T_7da0b4be_ae05_11eb_9229_d79ce77344b5row9_col1\" class=\"data row9 col1\" >5.000000</td>\n                        <td id=\"T_7da0b4be_ae05_11eb_9229_d79ce77344b5row9_col2\" class=\"data row9 col2\" >0.000000</td>\n                        <td id=\"T_7da0b4be_ae05_11eb_9229_d79ce77344b5row9_col3\" class=\"data row9 col3\" >0.000000</td>\n            </tr>\n            <tr>\n                        <th id=\"T_7da0b4be_ae05_11eb_9229_d79ce77344b5level0_row10\" class=\"row_heading level0 row10\" >10</th>\n                        <td id=\"T_7da0b4be_ae05_11eb_9229_d79ce77344b5row10_col0\" class=\"data row10 col0\" >0.000000</td>\n                        <td id=\"T_7da0b4be_ae05_11eb_9229_d79ce77344b5row10_col1\" class=\"data row10 col1\" >0.000000</td>\n                        <td id=\"T_7da0b4be_ae05_11eb_9229_d79ce77344b5row10_col2\" class=\"data row10 col2\" >0.000000</td>\n                        <td id=\"T_7da0b4be_ae05_11eb_9229_d79ce77344b5row10_col3\" class=\"data row10 col3\" >0.000000</td>\n            </tr>\n            <tr>\n                        <th id=\"T_7da0b4be_ae05_11eb_9229_d79ce77344b5level0_row11\" class=\"row_heading level0 row11\" >11</th>\n                        <td id=\"T_7da0b4be_ae05_11eb_9229_d79ce77344b5row11_col0\" class=\"data row11 col0\" >10.000000</td>\n                        <td id=\"T_7da0b4be_ae05_11eb_9229_d79ce77344b5row11_col1\" class=\"data row11 col1\" >10.000000</td>\n                        <td id=\"T_7da0b4be_ae05_11eb_9229_d79ce77344b5row11_col2\" class=\"data row11 col2\" >0.000000</td>\n                        <td id=\"T_7da0b4be_ae05_11eb_9229_d79ce77344b5row11_col3\" class=\"data row11 col3\" >0.000000</td>\n            </tr>\n            <tr>\n                        <th id=\"T_7da0b4be_ae05_11eb_9229_d79ce77344b5level0_row12\" class=\"row_heading level0 row12\" >12</th>\n                        <td id=\"T_7da0b4be_ae05_11eb_9229_d79ce77344b5row12_col0\" class=\"data row12 col0\" >10.000000</td>\n                        <td id=\"T_7da0b4be_ae05_11eb_9229_d79ce77344b5row12_col1\" class=\"data row12 col1\" >10.000000</td>\n                        <td id=\"T_7da0b4be_ae05_11eb_9229_d79ce77344b5row12_col2\" class=\"data row12 col2\" >0.000000</td>\n                        <td id=\"T_7da0b4be_ae05_11eb_9229_d79ce77344b5row12_col3\" class=\"data row12 col3\" >10.000000</td>\n            </tr>\n            <tr>\n                        <th id=\"T_7da0b4be_ae05_11eb_9229_d79ce77344b5level0_row13\" class=\"row_heading level0 row13\" >13</th>\n                        <td id=\"T_7da0b4be_ae05_11eb_9229_d79ce77344b5row13_col0\" class=\"data row13 col0\" >0.000000</td>\n                        <td id=\"T_7da0b4be_ae05_11eb_9229_d79ce77344b5row13_col1\" class=\"data row13 col1\" >0.000000</td>\n                        <td id=\"T_7da0b4be_ae05_11eb_9229_d79ce77344b5row13_col2\" class=\"data row13 col2\" >10.000000</td>\n                        <td id=\"T_7da0b4be_ae05_11eb_9229_d79ce77344b5row13_col3\" class=\"data row13 col3\" >10.000000</td>\n            </tr>\n            <tr>\n                        <th id=\"T_7da0b4be_ae05_11eb_9229_d79ce77344b5level0_row14\" class=\"row_heading level0 row14\" >14</th>\n                        <td id=\"T_7da0b4be_ae05_11eb_9229_d79ce77344b5row14_col0\" class=\"data row14 col0\" >10.000000</td>\n                        <td id=\"T_7da0b4be_ae05_11eb_9229_d79ce77344b5row14_col1\" class=\"data row14 col1\" >10.000000</td>\n                        <td id=\"T_7da0b4be_ae05_11eb_9229_d79ce77344b5row14_col2\" class=\"data row14 col2\" >10.000000</td>\n                        <td id=\"T_7da0b4be_ae05_11eb_9229_d79ce77344b5row14_col3\" class=\"data row14 col3\" >0.000000</td>\n            </tr>\n            <tr>\n                        <th id=\"T_7da0b4be_ae05_11eb_9229_d79ce77344b5level0_row15\" class=\"row_heading level0 row15\" >15</th>\n                        <td id=\"T_7da0b4be_ae05_11eb_9229_d79ce77344b5row15_col0\" class=\"data row15 col0\" >5.000000</td>\n                        <td id=\"T_7da0b4be_ae05_11eb_9229_d79ce77344b5row15_col1\" class=\"data row15 col1\" >5.000000</td>\n                        <td id=\"T_7da0b4be_ae05_11eb_9229_d79ce77344b5row15_col2\" class=\"data row15 col2\" >0.000000</td>\n                        <td id=\"T_7da0b4be_ae05_11eb_9229_d79ce77344b5row15_col3\" class=\"data row15 col3\" >0.000000</td>\n            </tr>\n            <tr>\n                        <th id=\"T_7da0b4be_ae05_11eb_9229_d79ce77344b5level0_row16\" class=\"row_heading level0 row16\" >16</th>\n                        <td id=\"T_7da0b4be_ae05_11eb_9229_d79ce77344b5row16_col0\" class=\"data row16 col0\" >0.000000</td>\n                        <td id=\"T_7da0b4be_ae05_11eb_9229_d79ce77344b5row16_col1\" class=\"data row16 col1\" >0.000000</td>\n                        <td id=\"T_7da0b4be_ae05_11eb_9229_d79ce77344b5row16_col2\" class=\"data row16 col2\" >0.000000</td>\n                        <td id=\"T_7da0b4be_ae05_11eb_9229_d79ce77344b5row16_col3\" class=\"data row16 col3\" >0.000000</td>\n            </tr>\n            <tr>\n                        <th id=\"T_7da0b4be_ae05_11eb_9229_d79ce77344b5level0_row17\" class=\"row_heading level0 row17\" >17</th>\n                        <td id=\"T_7da0b4be_ae05_11eb_9229_d79ce77344b5row17_col0\" class=\"data row17 col0\" >4.999986</td>\n                        <td id=\"T_7da0b4be_ae05_11eb_9229_d79ce77344b5row17_col1\" class=\"data row17 col1\" >5.000000</td>\n                        <td id=\"T_7da0b4be_ae05_11eb_9229_d79ce77344b5row17_col2\" class=\"data row17 col2\" >0.000000</td>\n                        <td id=\"T_7da0b4be_ae05_11eb_9229_d79ce77344b5row17_col3\" class=\"data row17 col3\" >0.000000</td>\n            </tr>\n            <tr>\n                        <th id=\"T_7da0b4be_ae05_11eb_9229_d79ce77344b5level0_row18\" class=\"row_heading level0 row18\" >18</th>\n                        <td id=\"T_7da0b4be_ae05_11eb_9229_d79ce77344b5row18_col0\" class=\"data row18 col0\" >10.000000</td>\n                        <td id=\"T_7da0b4be_ae05_11eb_9229_d79ce77344b5row18_col1\" class=\"data row18 col1\" >0.000000</td>\n                        <td id=\"T_7da0b4be_ae05_11eb_9229_d79ce77344b5row18_col2\" class=\"data row18 col2\" >0.000000</td>\n                        <td id=\"T_7da0b4be_ae05_11eb_9229_d79ce77344b5row18_col3\" class=\"data row18 col3\" >10.000000</td>\n            </tr>\n            <tr>\n                        <th id=\"T_7da0b4be_ae05_11eb_9229_d79ce77344b5level0_row19\" class=\"row_heading level0 row19\" >19</th>\n                        <td id=\"T_7da0b4be_ae05_11eb_9229_d79ce77344b5row19_col0\" class=\"data row19 col0\" >0.000000</td>\n                        <td id=\"T_7da0b4be_ae05_11eb_9229_d79ce77344b5row19_col1\" class=\"data row19 col1\" >0.000000</td>\n                        <td id=\"T_7da0b4be_ae05_11eb_9229_d79ce77344b5row19_col2\" class=\"data row19 col2\" >4.999987</td>\n                        <td id=\"T_7da0b4be_ae05_11eb_9229_d79ce77344b5row19_col3\" class=\"data row19 col3\" >5.000000</td>\n            </tr>\n            <tr>\n                        <th id=\"T_7da0b4be_ae05_11eb_9229_d79ce77344b5level0_row20\" class=\"row_heading level0 row20\" >20</th>\n                        <td id=\"T_7da0b4be_ae05_11eb_9229_d79ce77344b5row20_col0\" class=\"data row20 col0\" >0.000000</td>\n                        <td id=\"T_7da0b4be_ae05_11eb_9229_d79ce77344b5row20_col1\" class=\"data row20 col1\" >0.000000</td>\n                        <td id=\"T_7da0b4be_ae05_11eb_9229_d79ce77344b5row20_col2\" class=\"data row20 col2\" >0.000000</td>\n                        <td id=\"T_7da0b4be_ae05_11eb_9229_d79ce77344b5row20_col3\" class=\"data row20 col3\" >0.000000</td>\n            </tr>\n    </tbody></table>"
     },
     "metadata": {}
    },
    {
     "output_type": "display_data",
     "data": {
      "text/plain": "<pandas.io.formats.style.Styler at 0x7ffa86c3fdc0>",
      "text/html": "<style  type=\"text/css\" >\n#T_7da39b34_ae05_11eb_9229_d79ce77344b5row0_col0,#T_7da39b34_ae05_11eb_9229_d79ce77344b5row0_col1,#T_7da39b34_ae05_11eb_9229_d79ce77344b5row0_col2,#T_7da39b34_ae05_11eb_9229_d79ce77344b5row0_col3,#T_7da39b34_ae05_11eb_9229_d79ce77344b5row1_col0,#T_7da39b34_ae05_11eb_9229_d79ce77344b5row1_col1,#T_7da39b34_ae05_11eb_9229_d79ce77344b5row2_col0,#T_7da39b34_ae05_11eb_9229_d79ce77344b5row2_col3,#T_7da39b34_ae05_11eb_9229_d79ce77344b5row3_col2,#T_7da39b34_ae05_11eb_9229_d79ce77344b5row3_col3,#T_7da39b34_ae05_11eb_9229_d79ce77344b5row4_col0,#T_7da39b34_ae05_11eb_9229_d79ce77344b5row4_col1,#T_7da39b34_ae05_11eb_9229_d79ce77344b5row4_col2,#T_7da39b34_ae05_11eb_9229_d79ce77344b5row4_col3,#T_7da39b34_ae05_11eb_9229_d79ce77344b5row5_col2,#T_7da39b34_ae05_11eb_9229_d79ce77344b5row5_col3,#T_7da39b34_ae05_11eb_9229_d79ce77344b5row6_col2,#T_7da39b34_ae05_11eb_9229_d79ce77344b5row7_col0,#T_7da39b34_ae05_11eb_9229_d79ce77344b5row7_col1,#T_7da39b34_ae05_11eb_9229_d79ce77344b5row8_col3,#T_7da39b34_ae05_11eb_9229_d79ce77344b5row9_col2,#T_7da39b34_ae05_11eb_9229_d79ce77344b5row9_col3,#T_7da39b34_ae05_11eb_9229_d79ce77344b5row10_col0,#T_7da39b34_ae05_11eb_9229_d79ce77344b5row10_col1,#T_7da39b34_ae05_11eb_9229_d79ce77344b5row10_col2,#T_7da39b34_ae05_11eb_9229_d79ce77344b5row10_col3,#T_7da39b34_ae05_11eb_9229_d79ce77344b5row11_col2,#T_7da39b34_ae05_11eb_9229_d79ce77344b5row11_col3,#T_7da39b34_ae05_11eb_9229_d79ce77344b5row12_col2,#T_7da39b34_ae05_11eb_9229_d79ce77344b5row13_col0,#T_7da39b34_ae05_11eb_9229_d79ce77344b5row13_col1,#T_7da39b34_ae05_11eb_9229_d79ce77344b5row14_col3,#T_7da39b34_ae05_11eb_9229_d79ce77344b5row15_col2,#T_7da39b34_ae05_11eb_9229_d79ce77344b5row15_col3,#T_7da39b34_ae05_11eb_9229_d79ce77344b5row16_col0,#T_7da39b34_ae05_11eb_9229_d79ce77344b5row16_col1,#T_7da39b34_ae05_11eb_9229_d79ce77344b5row16_col2,#T_7da39b34_ae05_11eb_9229_d79ce77344b5row16_col3,#T_7da39b34_ae05_11eb_9229_d79ce77344b5row17_col2,#T_7da39b34_ae05_11eb_9229_d79ce77344b5row17_col3,#T_7da39b34_ae05_11eb_9229_d79ce77344b5row18_col1,#T_7da39b34_ae05_11eb_9229_d79ce77344b5row18_col2,#T_7da39b34_ae05_11eb_9229_d79ce77344b5row19_col0,#T_7da39b34_ae05_11eb_9229_d79ce77344b5row19_col1,#T_7da39b34_ae05_11eb_9229_d79ce77344b5row20_col1,#T_7da39b34_ae05_11eb_9229_d79ce77344b5row20_col3{\n            color:  black;\n        }#T_7da39b34_ae05_11eb_9229_d79ce77344b5row1_col2,#T_7da39b34_ae05_11eb_9229_d79ce77344b5row1_col3,#T_7da39b34_ae05_11eb_9229_d79ce77344b5row2_col1,#T_7da39b34_ae05_11eb_9229_d79ce77344b5row2_col2,#T_7da39b34_ae05_11eb_9229_d79ce77344b5row3_col0,#T_7da39b34_ae05_11eb_9229_d79ce77344b5row3_col1,#T_7da39b34_ae05_11eb_9229_d79ce77344b5row5_col0,#T_7da39b34_ae05_11eb_9229_d79ce77344b5row5_col1,#T_7da39b34_ae05_11eb_9229_d79ce77344b5row6_col0,#T_7da39b34_ae05_11eb_9229_d79ce77344b5row6_col1,#T_7da39b34_ae05_11eb_9229_d79ce77344b5row6_col3,#T_7da39b34_ae05_11eb_9229_d79ce77344b5row7_col2,#T_7da39b34_ae05_11eb_9229_d79ce77344b5row7_col3,#T_7da39b34_ae05_11eb_9229_d79ce77344b5row8_col0,#T_7da39b34_ae05_11eb_9229_d79ce77344b5row8_col1,#T_7da39b34_ae05_11eb_9229_d79ce77344b5row8_col2,#T_7da39b34_ae05_11eb_9229_d79ce77344b5row9_col0,#T_7da39b34_ae05_11eb_9229_d79ce77344b5row9_col1,#T_7da39b34_ae05_11eb_9229_d79ce77344b5row11_col0,#T_7da39b34_ae05_11eb_9229_d79ce77344b5row11_col1,#T_7da39b34_ae05_11eb_9229_d79ce77344b5row12_col0,#T_7da39b34_ae05_11eb_9229_d79ce77344b5row12_col1,#T_7da39b34_ae05_11eb_9229_d79ce77344b5row12_col3,#T_7da39b34_ae05_11eb_9229_d79ce77344b5row13_col2,#T_7da39b34_ae05_11eb_9229_d79ce77344b5row13_col3,#T_7da39b34_ae05_11eb_9229_d79ce77344b5row14_col0,#T_7da39b34_ae05_11eb_9229_d79ce77344b5row14_col1,#T_7da39b34_ae05_11eb_9229_d79ce77344b5row14_col2,#T_7da39b34_ae05_11eb_9229_d79ce77344b5row15_col0,#T_7da39b34_ae05_11eb_9229_d79ce77344b5row15_col1,#T_7da39b34_ae05_11eb_9229_d79ce77344b5row17_col0,#T_7da39b34_ae05_11eb_9229_d79ce77344b5row17_col1,#T_7da39b34_ae05_11eb_9229_d79ce77344b5row18_col0,#T_7da39b34_ae05_11eb_9229_d79ce77344b5row18_col3,#T_7da39b34_ae05_11eb_9229_d79ce77344b5row19_col2,#T_7da39b34_ae05_11eb_9229_d79ce77344b5row19_col3,#T_7da39b34_ae05_11eb_9229_d79ce77344b5row20_col0,#T_7da39b34_ae05_11eb_9229_d79ce77344b5row20_col2{\n            color:  green;\n        }</style><table id=\"T_7da39b34_ae05_11eb_9229_d79ce77344b5\" ><thead>    <tr>        <th class=\"blank level0\" ></th>        <th class=\"col_heading level0 col0\" >utara</th>        <th class=\"col_heading level0 col1\" >selatan</th>        <th class=\"col_heading level0 col2\" >barat</th>        <th class=\"col_heading level0 col3\" >timur</th>    </tr></thead><tbody>\n                <tr>\n                        <th id=\"T_7da39b34_ae05_11eb_9229_d79ce77344b5level0_row0\" class=\"row_heading level0 row0\" >0</th>\n                        <td id=\"T_7da39b34_ae05_11eb_9229_d79ce77344b5row0_col0\" class=\"data row0 col0\" >0.000000</td>\n                        <td id=\"T_7da39b34_ae05_11eb_9229_d79ce77344b5row0_col1\" class=\"data row0 col1\" >0.000000</td>\n                        <td id=\"T_7da39b34_ae05_11eb_9229_d79ce77344b5row0_col2\" class=\"data row0 col2\" >0.000000</td>\n                        <td id=\"T_7da39b34_ae05_11eb_9229_d79ce77344b5row0_col3\" class=\"data row0 col3\" >0.000000</td>\n            </tr>\n            <tr>\n                        <th id=\"T_7da39b34_ae05_11eb_9229_d79ce77344b5level0_row1\" class=\"row_heading level0 row1\" >1</th>\n                        <td id=\"T_7da39b34_ae05_11eb_9229_d79ce77344b5row1_col0\" class=\"data row1 col0\" >0.000000</td>\n                        <td id=\"T_7da39b34_ae05_11eb_9229_d79ce77344b5row1_col1\" class=\"data row1 col1\" >0.000000</td>\n                        <td id=\"T_7da39b34_ae05_11eb_9229_d79ce77344b5row1_col2\" class=\"data row1 col2\" >5.000000</td>\n                        <td id=\"T_7da39b34_ae05_11eb_9229_d79ce77344b5row1_col3\" class=\"data row1 col3\" >4.999998</td>\n            </tr>\n            <tr>\n                        <th id=\"T_7da39b34_ae05_11eb_9229_d79ce77344b5level0_row2\" class=\"row_heading level0 row2\" >2</th>\n                        <td id=\"T_7da39b34_ae05_11eb_9229_d79ce77344b5row2_col0\" class=\"data row2 col0\" >0.000000</td>\n                        <td id=\"T_7da39b34_ae05_11eb_9229_d79ce77344b5row2_col1\" class=\"data row2 col1\" >10.000000</td>\n                        <td id=\"T_7da39b34_ae05_11eb_9229_d79ce77344b5row2_col2\" class=\"data row2 col2\" >10.000000</td>\n                        <td id=\"T_7da39b34_ae05_11eb_9229_d79ce77344b5row2_col3\" class=\"data row2 col3\" >0.000000</td>\n            </tr>\n            <tr>\n                        <th id=\"T_7da39b34_ae05_11eb_9229_d79ce77344b5level0_row3\" class=\"row_heading level0 row3\" >3</th>\n                        <td id=\"T_7da39b34_ae05_11eb_9229_d79ce77344b5row3_col0\" class=\"data row3 col0\" >10.000000</td>\n                        <td id=\"T_7da39b34_ae05_11eb_9229_d79ce77344b5row3_col1\" class=\"data row3 col1\" >9.999958</td>\n                        <td id=\"T_7da39b34_ae05_11eb_9229_d79ce77344b5row3_col2\" class=\"data row3 col2\" >0.000000</td>\n                        <td id=\"T_7da39b34_ae05_11eb_9229_d79ce77344b5row3_col3\" class=\"data row3 col3\" >0.000000</td>\n            </tr>\n            <tr>\n                        <th id=\"T_7da39b34_ae05_11eb_9229_d79ce77344b5level0_row4\" class=\"row_heading level0 row4\" >4</th>\n                        <td id=\"T_7da39b34_ae05_11eb_9229_d79ce77344b5row4_col0\" class=\"data row4 col0\" >0.000000</td>\n                        <td id=\"T_7da39b34_ae05_11eb_9229_d79ce77344b5row4_col1\" class=\"data row4 col1\" >0.000000</td>\n                        <td id=\"T_7da39b34_ae05_11eb_9229_d79ce77344b5row4_col2\" class=\"data row4 col2\" >0.000000</td>\n                        <td id=\"T_7da39b34_ae05_11eb_9229_d79ce77344b5row4_col3\" class=\"data row4 col3\" >0.000000</td>\n            </tr>\n            <tr>\n                        <th id=\"T_7da39b34_ae05_11eb_9229_d79ce77344b5level0_row5\" class=\"row_heading level0 row5\" >5</th>\n                        <td id=\"T_7da39b34_ae05_11eb_9229_d79ce77344b5row5_col0\" class=\"data row5 col0\" >5.000000</td>\n                        <td id=\"T_7da39b34_ae05_11eb_9229_d79ce77344b5row5_col1\" class=\"data row5 col1\" >5.000000</td>\n                        <td id=\"T_7da39b34_ae05_11eb_9229_d79ce77344b5row5_col2\" class=\"data row5 col2\" >0.000000</td>\n                        <td id=\"T_7da39b34_ae05_11eb_9229_d79ce77344b5row5_col3\" class=\"data row5 col3\" >0.000000</td>\n            </tr>\n            <tr>\n                        <th id=\"T_7da39b34_ae05_11eb_9229_d79ce77344b5level0_row6\" class=\"row_heading level0 row6\" >6</th>\n                        <td id=\"T_7da39b34_ae05_11eb_9229_d79ce77344b5row6_col0\" class=\"data row6 col0\" >10.000000</td>\n                        <td id=\"T_7da39b34_ae05_11eb_9229_d79ce77344b5row6_col1\" class=\"data row6 col1\" >10.000000</td>\n                        <td id=\"T_7da39b34_ae05_11eb_9229_d79ce77344b5row6_col2\" class=\"data row6 col2\" >0.000000</td>\n                        <td id=\"T_7da39b34_ae05_11eb_9229_d79ce77344b5row6_col3\" class=\"data row6 col3\" >10.000000</td>\n            </tr>\n            <tr>\n                        <th id=\"T_7da39b34_ae05_11eb_9229_d79ce77344b5level0_row7\" class=\"row_heading level0 row7\" >7</th>\n                        <td id=\"T_7da39b34_ae05_11eb_9229_d79ce77344b5row7_col0\" class=\"data row7 col0\" >0.000000</td>\n                        <td id=\"T_7da39b34_ae05_11eb_9229_d79ce77344b5row7_col1\" class=\"data row7 col1\" >0.000000</td>\n                        <td id=\"T_7da39b34_ae05_11eb_9229_d79ce77344b5row7_col2\" class=\"data row7 col2\" >10.000000</td>\n                        <td id=\"T_7da39b34_ae05_11eb_9229_d79ce77344b5row7_col3\" class=\"data row7 col3\" >10.000000</td>\n            </tr>\n            <tr>\n                        <th id=\"T_7da39b34_ae05_11eb_9229_d79ce77344b5level0_row8\" class=\"row_heading level0 row8\" >8</th>\n                        <td id=\"T_7da39b34_ae05_11eb_9229_d79ce77344b5row8_col0\" class=\"data row8 col0\" >10.000000</td>\n                        <td id=\"T_7da39b34_ae05_11eb_9229_d79ce77344b5row8_col1\" class=\"data row8 col1\" >10.000000</td>\n                        <td id=\"T_7da39b34_ae05_11eb_9229_d79ce77344b5row8_col2\" class=\"data row8 col2\" >10.000000</td>\n                        <td id=\"T_7da39b34_ae05_11eb_9229_d79ce77344b5row8_col3\" class=\"data row8 col3\" >0.000000</td>\n            </tr>\n            <tr>\n                        <th id=\"T_7da39b34_ae05_11eb_9229_d79ce77344b5level0_row9\" class=\"row_heading level0 row9\" >9</th>\n                        <td id=\"T_7da39b34_ae05_11eb_9229_d79ce77344b5row9_col0\" class=\"data row9 col0\" >5.000000</td>\n                        <td id=\"T_7da39b34_ae05_11eb_9229_d79ce77344b5row9_col1\" class=\"data row9 col1\" >5.000000</td>\n                        <td id=\"T_7da39b34_ae05_11eb_9229_d79ce77344b5row9_col2\" class=\"data row9 col2\" >0.000000</td>\n                        <td id=\"T_7da39b34_ae05_11eb_9229_d79ce77344b5row9_col3\" class=\"data row9 col3\" >0.000000</td>\n            </tr>\n            <tr>\n                        <th id=\"T_7da39b34_ae05_11eb_9229_d79ce77344b5level0_row10\" class=\"row_heading level0 row10\" >10</th>\n                        <td id=\"T_7da39b34_ae05_11eb_9229_d79ce77344b5row10_col0\" class=\"data row10 col0\" >0.000000</td>\n                        <td id=\"T_7da39b34_ae05_11eb_9229_d79ce77344b5row10_col1\" class=\"data row10 col1\" >0.000000</td>\n                        <td id=\"T_7da39b34_ae05_11eb_9229_d79ce77344b5row10_col2\" class=\"data row10 col2\" >0.000000</td>\n                        <td id=\"T_7da39b34_ae05_11eb_9229_d79ce77344b5row10_col3\" class=\"data row10 col3\" >0.000000</td>\n            </tr>\n            <tr>\n                        <th id=\"T_7da39b34_ae05_11eb_9229_d79ce77344b5level0_row11\" class=\"row_heading level0 row11\" >11</th>\n                        <td id=\"T_7da39b34_ae05_11eb_9229_d79ce77344b5row11_col0\" class=\"data row11 col0\" >10.000000</td>\n                        <td id=\"T_7da39b34_ae05_11eb_9229_d79ce77344b5row11_col1\" class=\"data row11 col1\" >10.000000</td>\n                        <td id=\"T_7da39b34_ae05_11eb_9229_d79ce77344b5row11_col2\" class=\"data row11 col2\" >0.000000</td>\n                        <td id=\"T_7da39b34_ae05_11eb_9229_d79ce77344b5row11_col3\" class=\"data row11 col3\" >0.000000</td>\n            </tr>\n            <tr>\n                        <th id=\"T_7da39b34_ae05_11eb_9229_d79ce77344b5level0_row12\" class=\"row_heading level0 row12\" >12</th>\n                        <td id=\"T_7da39b34_ae05_11eb_9229_d79ce77344b5row12_col0\" class=\"data row12 col0\" >10.000000</td>\n                        <td id=\"T_7da39b34_ae05_11eb_9229_d79ce77344b5row12_col1\" class=\"data row12 col1\" >10.000000</td>\n                        <td id=\"T_7da39b34_ae05_11eb_9229_d79ce77344b5row12_col2\" class=\"data row12 col2\" >0.000000</td>\n                        <td id=\"T_7da39b34_ae05_11eb_9229_d79ce77344b5row12_col3\" class=\"data row12 col3\" >10.000000</td>\n            </tr>\n            <tr>\n                        <th id=\"T_7da39b34_ae05_11eb_9229_d79ce77344b5level0_row13\" class=\"row_heading level0 row13\" >13</th>\n                        <td id=\"T_7da39b34_ae05_11eb_9229_d79ce77344b5row13_col0\" class=\"data row13 col0\" >0.000000</td>\n                        <td id=\"T_7da39b34_ae05_11eb_9229_d79ce77344b5row13_col1\" class=\"data row13 col1\" >0.000000</td>\n                        <td id=\"T_7da39b34_ae05_11eb_9229_d79ce77344b5row13_col2\" class=\"data row13 col2\" >10.000000</td>\n                        <td id=\"T_7da39b34_ae05_11eb_9229_d79ce77344b5row13_col3\" class=\"data row13 col3\" >10.000000</td>\n            </tr>\n            <tr>\n                        <th id=\"T_7da39b34_ae05_11eb_9229_d79ce77344b5level0_row14\" class=\"row_heading level0 row14\" >14</th>\n                        <td id=\"T_7da39b34_ae05_11eb_9229_d79ce77344b5row14_col0\" class=\"data row14 col0\" >10.000000</td>\n                        <td id=\"T_7da39b34_ae05_11eb_9229_d79ce77344b5row14_col1\" class=\"data row14 col1\" >10.000000</td>\n                        <td id=\"T_7da39b34_ae05_11eb_9229_d79ce77344b5row14_col2\" class=\"data row14 col2\" >10.000000</td>\n                        <td id=\"T_7da39b34_ae05_11eb_9229_d79ce77344b5row14_col3\" class=\"data row14 col3\" >0.000000</td>\n            </tr>\n            <tr>\n                        <th id=\"T_7da39b34_ae05_11eb_9229_d79ce77344b5level0_row15\" class=\"row_heading level0 row15\" >15</th>\n                        <td id=\"T_7da39b34_ae05_11eb_9229_d79ce77344b5row15_col0\" class=\"data row15 col0\" >5.000000</td>\n                        <td id=\"T_7da39b34_ae05_11eb_9229_d79ce77344b5row15_col1\" class=\"data row15 col1\" >5.000000</td>\n                        <td id=\"T_7da39b34_ae05_11eb_9229_d79ce77344b5row15_col2\" class=\"data row15 col2\" >0.000000</td>\n                        <td id=\"T_7da39b34_ae05_11eb_9229_d79ce77344b5row15_col3\" class=\"data row15 col3\" >0.000000</td>\n            </tr>\n            <tr>\n                        <th id=\"T_7da39b34_ae05_11eb_9229_d79ce77344b5level0_row16\" class=\"row_heading level0 row16\" >16</th>\n                        <td id=\"T_7da39b34_ae05_11eb_9229_d79ce77344b5row16_col0\" class=\"data row16 col0\" >0.000000</td>\n                        <td id=\"T_7da39b34_ae05_11eb_9229_d79ce77344b5row16_col1\" class=\"data row16 col1\" >0.000000</td>\n                        <td id=\"T_7da39b34_ae05_11eb_9229_d79ce77344b5row16_col2\" class=\"data row16 col2\" >0.000000</td>\n                        <td id=\"T_7da39b34_ae05_11eb_9229_d79ce77344b5row16_col3\" class=\"data row16 col3\" >0.000000</td>\n            </tr>\n            <tr>\n                        <th id=\"T_7da39b34_ae05_11eb_9229_d79ce77344b5level0_row17\" class=\"row_heading level0 row17\" >17</th>\n                        <td id=\"T_7da39b34_ae05_11eb_9229_d79ce77344b5row17_col0\" class=\"data row17 col0\" >5.000000</td>\n                        <td id=\"T_7da39b34_ae05_11eb_9229_d79ce77344b5row17_col1\" class=\"data row17 col1\" >5.000000</td>\n                        <td id=\"T_7da39b34_ae05_11eb_9229_d79ce77344b5row17_col2\" class=\"data row17 col2\" >0.000000</td>\n                        <td id=\"T_7da39b34_ae05_11eb_9229_d79ce77344b5row17_col3\" class=\"data row17 col3\" >0.000000</td>\n            </tr>\n            <tr>\n                        <th id=\"T_7da39b34_ae05_11eb_9229_d79ce77344b5level0_row18\" class=\"row_heading level0 row18\" >18</th>\n                        <td id=\"T_7da39b34_ae05_11eb_9229_d79ce77344b5row18_col0\" class=\"data row18 col0\" >10.000000</td>\n                        <td id=\"T_7da39b34_ae05_11eb_9229_d79ce77344b5row18_col1\" class=\"data row18 col1\" >0.000000</td>\n                        <td id=\"T_7da39b34_ae05_11eb_9229_d79ce77344b5row18_col2\" class=\"data row18 col2\" >0.000000</td>\n                        <td id=\"T_7da39b34_ae05_11eb_9229_d79ce77344b5row18_col3\" class=\"data row18 col3\" >10.000000</td>\n            </tr>\n            <tr>\n                        <th id=\"T_7da39b34_ae05_11eb_9229_d79ce77344b5level0_row19\" class=\"row_heading level0 row19\" >19</th>\n                        <td id=\"T_7da39b34_ae05_11eb_9229_d79ce77344b5row19_col0\" class=\"data row19 col0\" >0.000000</td>\n                        <td id=\"T_7da39b34_ae05_11eb_9229_d79ce77344b5row19_col1\" class=\"data row19 col1\" >0.000000</td>\n                        <td id=\"T_7da39b34_ae05_11eb_9229_d79ce77344b5row19_col2\" class=\"data row19 col2\" >5.000000</td>\n                        <td id=\"T_7da39b34_ae05_11eb_9229_d79ce77344b5row19_col3\" class=\"data row19 col3\" >5.000000</td>\n            </tr>\n            <tr>\n                        <th id=\"T_7da39b34_ae05_11eb_9229_d79ce77344b5level0_row20\" class=\"row_heading level0 row20\" >20</th>\n                        <td id=\"T_7da39b34_ae05_11eb_9229_d79ce77344b5row20_col0\" class=\"data row20 col0\" >1000.000000</td>\n                        <td id=\"T_7da39b34_ae05_11eb_9229_d79ce77344b5row20_col1\" class=\"data row20 col1\" >0.000000</td>\n                        <td id=\"T_7da39b34_ae05_11eb_9229_d79ce77344b5row20_col2\" class=\"data row20 col2\" >1000.000000</td>\n                        <td id=\"T_7da39b34_ae05_11eb_9229_d79ce77344b5row20_col3\" class=\"data row20 col3\" >0.000000</td>\n            </tr>\n    </tbody></table>"
     },
     "metadata": {}
    }
   ],
   "source": [
    "display(pd.DataFrame(Q1.table, columns=direction.values()).style.applymap(color_Q))\n",
    "display(pd.DataFrame(Q2.table, columns=direction.values()).style.applymap(color_Q))\n",
    "display(pd.DataFrame(Q3.table, columns=direction.values()).style.applymap(color_Q))"
   ]
  }
 ],
 "metadata": {
  "kernelspec": {
   "name": "python385jvsc74a57bd0082558e69d658a3c5e44001fe6518b5717e52b61fd75d6ca5e37a9989eaee2aa",
   "display_name": "Python 3.8.5 64-bit ('base': conda)"
  },
  "language_info": {
   "codemirror_mode": {
    "name": "ipython",
    "version": 3
   },
   "file_extension": ".py",
   "mimetype": "text/x-python",
   "name": "python",
   "nbconvert_exporter": "python",
   "pygments_lexer": "ipython3",
   "version": "3.8.5"
  }
 },
 "nbformat": 4,
 "nbformat_minor": 4
}