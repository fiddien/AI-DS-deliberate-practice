{
 "cells": [
  {
   "cell_type": "markdown",
   "id": "corporate-terrorism",
   "metadata": {},
   "source": [
    "<p style=\"font-family:Times;font-size:250%; text-align:center\"> <font color='red'>Deep Learning dengan PyTorch</font></p>"
   ]
  },
  {
   "cell_type": "code",
   "execution_count": 181,
   "id": "comparable-lemon",
   "metadata": {},
   "outputs": [],
   "source": [
    "import torch\n",
    "import numpy as np\n",
    "import pandas as pd\n",
    "import pickle\n",
    "import matplotlib.pyplot as plt\n",
    "from datetime import datetime\n",
    "%matplotlib inline\n",
    "\n",
    "torch.set_printoptions(precision = 3, profile = 3)   #, suppress = True, formatter = {'float':'{:7.4f}'.format})\n",
    "\n",
    "#Sigmoid function\n",
    "sigmoid = lambda Z: 1/(1+torch.exp(-Z))\n",
    "\n",
    "#Derivative of Sigmoid function/\n",
    "dsigmoid = lambda A: A*(1-A)\n",
    "\n",
    "linear = lambda X,w,b: X@w+b\n",
    "\n",
    "\"Time step (ts)\"\n",
    "def steps(x, step):   \n",
    "    obs  = len(x)-step\n",
    "    xt   = x[:obs,:]\n",
    "    for i in torch.arange(1,step+1):\n",
    "        xt = torch.stack((xt, x[i:obs+i,:])).T\n",
    "    return xt"
   ]
  },
  {
   "cell_type": "code",
   "execution_count": 156,
   "id": "early-offer",
   "metadata": {},
   "outputs": [],
   "source": [
    "class NeuralNetwork:\n",
    "    \n",
    "    def __init__(self,x,y,hlayers,alpha): # ada h nodes di dalam hidden layer\n",
    "        self.X  = x #input\n",
    "        self.y  = y #output\n",
    "        self.alpha  = alpha\n",
    "        \n",
    "        assert torch.Tensor.dim(y)  == 2   #y harus berupa matriks (berdimensi 2)\n",
    "        assert type(hlayers) == list\n",
    "        \n",
    "        ni = x.shape[1]  #jumlah features (variables)\n",
    "        self.N, no = y.shape   #jumlah observasi (self.N) dan jumlah output (no)\n",
    "        \n",
    "        # neurons : list berisi banyaknya neuron tiap layer ( input -- hidden -- output )\n",
    "        neurons = [ni]          # menyiapkan layer (#features)\n",
    "        neurons.extend(hlayers) # memasukkan hidden layers\n",
    "        neurons.append(no)      # menambah output layer \n",
    "        self.nlayers  = len(neurons)-1  # banyaknya layer (tidak termasuk input layer)\n",
    "        \n",
    "        \"Initial values untuk parameter w and b\"\n",
    "        self.w, self.b = [], []\n",
    "        for i in torch.arange(self.nlayers):\n",
    "            #Sinapsis dari layer ke i menuju layer ke (i+1)\n",
    "            self.w.append(torch.randn(neurons[i], neurons[i+1], requires_grad = True))  \n",
    "            #Bias di layer ke (i+1)\n",
    "            self.b.append(torch.randn(1, neurons[i+1], requires_grad = True)) \n",
    "\n",
    "    def forward(self):\n",
    "        ''' Forward propagation (perambatan maju) '''\n",
    "        Z, A = [], [self.X]\n",
    "        for j in torch.arange(self.nlayers):\n",
    "            Z.append(linear(A[j],self.w[j],self.b[j]))  #Reaksi kimia di layer ke (j + 1)\n",
    "            A.append(sigmoid(Z[j]))     #Aliran listrik di layer ke (j + 1)\n",
    "        \n",
    "#         print(A)\n",
    "        self.predicted_y = A[self.nlayers]\n",
    "#         e         = self.y-self.predicted_y\n",
    "#         self.Cost = e.T@e/self.N  #mean squared error\n",
    "        criterion = torch.nn.MSELoss(reduction=\"mean\")\n",
    "        self.Cost = criterion(self.y, self.predicted_y)\n",
    "#         print(self.Cost)\n",
    "#         print(f\"e:{e}\")\n",
    "#         print(f\"Cost:{self.Cost}\")\n",
    "\n",
    "    def backward(self):\n",
    "        ''' Backward propagation (perambatan mundur) '''\n",
    "#         print(self.Cost.mean())\n",
    "        self.Cost.backward()\n",
    "        \n",
    "        for n in torch.arange(self.nlayers): \n",
    "            with torch.no_grad():\n",
    "                self.w[n] -= self.alpha * self.w[n].grad   #Parameter w di-update \n",
    "                self.b[n] -= self.alpha * self.b[n].grad   #Parameter b di-update     \n",
    "                \n",
    "                # Me-nol kan gradient secara manual setelah backward\n",
    "                self.w[n].grad.zero_()\n",
    "                self.b[n].grad.zero_()\n",
    "                \n",
    "    def autograd(self):\n",
    "        \n",
    "        gradw = torch.autograd.grad(self.Cost, self.w, retain_graph=True)\n",
    "        gradb = torch.autograd.grad(self.Cost, self.b, retain_graph=True)\n",
    "\n",
    "        for n in torch.arange(self.nlayers):\n",
    "            with torch.no_grad():\n",
    "                self.w[n] -= self.alpha * gradw[n]\n",
    "                self.b[n] -= self.alpha * gradb[n]\n",
    "\n",
    "\n",
    "    def optimizer(self):\n",
    "        \n",
    "        self.Cost.backward()\n",
    "        for n in torch.arange(self.nlayers):\n",
    "            optimizer = torch.optim.SGD((self.w[n], self.b[n]), lr=self.alpha)\n",
    "            optimizer.step()\n",
    "            optimizer.zero_grad()"
   ]
  },
  {
   "cell_type": "code",
   "execution_count": 158,
   "id": "ecological-institution",
   "metadata": {},
   "outputs": [
    {
     "name": "stdout",
     "output_type": "stream",
     "text": [
      "\n",
      "Iterasi ke: 100\n",
      "Actual vs Predicted Output:\n",
      "tensor([[1.000, 0.981],\n",
      "        [0.000, 0.922],\n",
      "        [0.000, 0.923],\n",
      "        [1.000, 0.985]], grad_fn=<CatBackward>)\n",
      "\n",
      "Cost: 0.42567495\n",
      "\n",
      "Iterasi ke: 200\n",
      "Actual vs Predicted Output:\n",
      "tensor([[1.000, 0.963],\n",
      "        [0.000, 0.034],\n",
      "        [0.000, 0.035],\n",
      "        [1.000, 0.972]], grad_fn=<CatBackward>)\n",
      "\n",
      "Cost: 0.0011360464\n",
      "\n",
      "Iterasi ke: 300\n",
      "Actual vs Predicted Output:\n",
      "tensor([[1.000, 0.975],\n",
      "        [0.000, 0.023],\n",
      "        [0.000, 0.024],\n",
      "        [1.000, 0.981]], grad_fn=<CatBackward>)\n",
      "\n",
      "Cost: 0.00051972416\n",
      "\n",
      "Waktu yang diperlukan: 0:00:01.735009\n"
     ]
    }
   ],
   "source": [
    "tic = datetime.now()\n",
    "\n",
    "LogicGate = {\"AND\": [[0], [0], [0], [1]], \"NAND\": [[0], [1], [1], [1]],   \"OR\": [[0], [1], [1], [1]],\n",
    "            \"XOR\": [[0], [1], [1], [0]],  \"NOR\": [[1], [0], [0], [0]], \"XNOR\": [[1], [0], [0], [1]]}\n",
    "\n",
    "X = torch.Tensor([[0,0,0], [0,1,0], [1,0,0], [1,1,1]])\n",
    "y = torch.Tensor(LogicGate[\"XNOR\"])\n",
    "\n",
    "hlayers = [3, 2]  #Dua buah hidden layer masing-masing memiliki 3 neutrons dan 2 neutrons\n",
    "alpha   = 9\n",
    "epochs  = 300\n",
    "torch.manual_seed(20201212)\n",
    "\n",
    "ann1 = NeuralNetwork(X,y,hlayers,alpha)\n",
    "\n",
    "for i in range(epochs): \n",
    "    ann1.forward()\n",
    "    ann1.autograd()\n",
    "    \n",
    "    if (i+1)%(epochs/3) == 0: \n",
    "        print (\"\\nIterasi ke:\",i+1)\n",
    "        print (\"Actual vs Predicted Output:\")\n",
    "        prediksi = ann1.predicted_y\n",
    "        print(torch.cat((y,prediksi), 1))\n",
    "        \n",
    "        print (\"\\nCost:\", ann1.Cost.detach().numpy()) \n",
    "\n",
    "print('')\n",
    "print(\"Waktu yang diperlukan:\", datetime.now()-tic)"
   ]
  },
  {
   "cell_type": "code",
   "execution_count": 200,
   "id": "scenic-banking",
   "metadata": {},
   "outputs": [
    {
     "name": "stdout",
     "output_type": "stream",
     "text": [
      "Sampai epoch ke 2000 dicapai akurasi MSE sebesar 0.0035384 dengan waktu 0:00:09.562988\n",
      "Sampai epoch ke 4000 dicapai akurasi MSE sebesar 0.0012480 dengan waktu 0:00:14.661994\n",
      "Sampai epoch ke 6000 dicapai akurasi MSE sebesar 0.0005753 dengan waktu 0:00:19.022989\n",
      "Sampai epoch ke 8000 dicapai akurasi MSE sebesar 0.0004937 dengan waktu 0:00:23.627990\n",
      "Sampai epoch ke 10000 dicapai akurasi MSE sebesar 0.0004759 dengan waktu 0:00:27.857991\n",
      "\n",
      "Akurasi dengan data training: 0.0004759 \n",
      "\n"
     ]
    },
    {
     "data": {
      "image/png": "[encoded data removed]",
      "text/plain": [
       "<Figure size 432x288 with 1 Axes>"
      ]
     },
     "metadata": {
      "needs_background": "light"
     },
     "output_type": "display_data"
    },
    {
     "name": "stdout",
     "output_type": "stream",
     "text": [
      "Waktu yang diperlukan dari mulai training (10000 epochs):  0:00:28.095994\n"
     ]
    }
   ],
   "source": [
    "#device = torch.device('cpu')\n",
    "device = torch.device('cuda') # Uncomment this to run on CPU\n",
    "\n",
    "A  = pd.read_csv('C:/Users/USER/MA4072 Pembelajaran Mendalam/Assignments/HPE.csv')  #Data time series harian harga saham Intel sejak 02 Januari 2015\n",
    "A6 = A['Adj Close'].values   #Ambil kolom ke enam berisi 'Adj Close', \n",
    "B  = A6.reshape(-1,1)  \n",
    "                                     \n",
    "Bmin = min(B)\n",
    "Bmax = max(B)\n",
    "b = torch.Tensor((B-Bmin)/(Bmax-Bmin))\n",
    "\n",
    "ts = 1   #Di literatur Time Series digunakan istilah 'lag' sebagai padanan istilah 'timestep' ini\n",
    "xt = steps(b, ts)  #Dihasilkan matriks dengan 2 (= ts+1) kolom, kolom pertama menjadi variabel X\n",
    "                   #dan kolom terkhir menjadi variabel y\n",
    "\n",
    "x = xt[:,:][0]    #Ambil 800 observasi terakhir\n",
    "\n",
    "#Data untuk training\n",
    "Xtrain = x[0:900, :-1]   #Ambil 680 observasi yang pertama dan hilangkan kolom terakhir\n",
    "ytrain = x[0:900:, -1:]  #Ambil 680 observasi yang pertama dan ambil kolom terakhir sebagai variabel y \n",
    "\n",
    "#Data untuk testing\n",
    "Xtest = x[900:, :-1]   #ambil jumlah observasi sebanyak 120, hilangkan kolom terakhir (untuk y)\n",
    "ytest = x[900:, -1:]   #ambil kolom terakhir\n",
    "\n",
    "hlayers = [3, 2]  #Dua hidden layers, masing-masing dengan 3 neurons dan 2 neurons\n",
    "alpha   = 7\n",
    "epochs  = 10000\n",
    "ann2    = NeuralNetwork(Xtrain,ytrain,hlayers,alpha)\n",
    "\n",
    "tic = datetime.now()\n",
    "torch.manual_seed(20201212)\n",
    "\n",
    "for t in range(epochs): \n",
    "    ann2.forward()\n",
    "    ann2.autograd()\n",
    "    \n",
    "    if (t+1)%(epochs/5) == 0:   #tampilkan output lima kali\n",
    "        print(\"Sampai epoch ke\", t+1,\"dicapai akurasi MSE sebesar %8.7f\" %ann2.Cost,\"dengan waktu\", datetime.now()-tic)\n",
    "\n",
    "toc = datetime.now()\n",
    "print('\\nAkurasi dengan data training: %8.7f' %ann2.Cost.detach().numpy(),'\\n')\n",
    "\n",
    "plt.plot(ytrain, label = 'actual series')\n",
    "plt.plot(ann2.predicted_y.detach().numpy(), label = 'predicted series')\n",
    "plt.legend()\n",
    "plt.show()\n",
    "\n",
    "toc = datetime.now()\n",
    "print(f'Waktu yang diperlukan dari mulai training ({epochs} epochs): ', toc-tic)"
   ]
  },
  {
   "cell_type": "code",
   "execution_count": 201,
   "id": "revised-brazilian",
   "metadata": {},
   "outputs": [
    {
     "name": "stdout",
     "output_type": "stream",
     "text": [
      "\n",
      "MSE training: 0.0004759 \n",
      "MSE testing : 0.0008191\n"
     ]
    },
    {
     "data": {
      "image/png": "[encoded data removed]",
      "text/plain": [
       "<Figure size 432x288 with 1 Axes>"
      ]
     },
     "metadata": {
      "needs_background": "light"
     },
     "output_type": "display_data"
    },
    {
     "name": "stdout",
     "output_type": "stream",
     "text": [
      "Waktu untuk training (dengan 10000 epochs) dan prediksi:  0:00:33.731992\n"
     ]
    }
   ],
   "source": [
    "\"Forward propagation (perambatan maju)\"\n",
    "Z = []\n",
    "A = [Xtest]\n",
    "for layer in range(ann2.nlayers):\n",
    "    Z.append(A[layer]@ann2.w[layer] + ann2.b[layer])\n",
    "    A.append(sigmoid(Z[layer]))   #Forward propagaation\n",
    "\n",
    "ytesthat = A[ann2.nlayers]\n",
    "msetest = (ytest-ytesthat).T@(ytest-ytesthat)/len(ytest)   #MSE semasa testing\n",
    "print('')\n",
    "print('MSE training: %8.7f'%ann2.Cost,'\\nMSE testing : %7.7f'%msetest)\n",
    "\n",
    "ytesto    = ytest*(Bmax-Bmin)+Bmin      #Kembalikan datanya ke original unit dalam satuan dolar\n",
    "ytesthato = ytesthat.detach().numpy()*(Bmax-Bmin)+Bmin   #Kembalikan datanya ke original unit dalam satuan dolar\n",
    "\n",
    "plt.plot(ytesto, label = 'actual series')\n",
    "plt.plot(ytesthato, label = 'predicted series')\n",
    "plt.legend()\n",
    "plt.show()\n",
    "toc = datetime.now()\n",
    "\n",
    "print(f'Waktu untuk training (dengan {epochs} epochs) dan prediksi: ',  toc-tic)"
   ]
  }
 ],
 "metadata": {
  "kernelspec": {
   "display_name": "Python 3",
   "language": "python",
   "name": "python3"
  },
  "language_info": {
   "codemirror_mode": {
    "name": "ipython",
    "version": 3
   },
   "file_extension": ".py",
   "mimetype": "text/x-python",
   "name": "python",
   "nbconvert_exporter": "python",
   "pygments_lexer": "ipython3",
   "version": "3.7.10"
  }
 },
 "nbformat": 4,
 "nbformat_minor": 5
}
