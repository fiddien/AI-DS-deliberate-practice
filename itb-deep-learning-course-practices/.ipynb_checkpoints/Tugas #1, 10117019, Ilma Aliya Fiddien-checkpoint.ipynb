{
 "cells": [
  {
   "cell_type": "markdown",
   "metadata": {},
   "source": [
    "<p style=\"font-family:Times;font-size:175%; text-align:center\"> <font color='green'>Pemodelan dan Prediksi Harga Saham Menggunakan Neural Network: Kasus Hawlett-Packard Enterprise</font></p>\n",
    "\n",
    "___\n",
    "\n",
    "Hewlett Packard Enterprise Company adalah perusahaan teknologi informasi perusahaan multinasional Amerika yang berbasis di San Jose, California, didirikan pada tanggal 1 November 2015, sebagai bagian dari pemisahan perusahaan Hewlett-Packard. \n",
    "\n",
    ">* Data saham HPE yang digunakan adalah antara tanggal 12 Oktober 2015 sampai 22 Februari 2021.\n",
    "\n",
    ">* Digunakan 1307 data dengan 1000 data untuk training dan 307 data untuk testing."
   ]
  },
  {
   "cell_type": "code",
   "execution_count": 1,
   "metadata": {},
   "outputs": [],
   "source": [
    "import numpy as np\n",
    "import pandas as pd\n",
    "import pickle\n",
    "import matplotlib.pyplot as plt\n",
    "from datetime import datetime\n",
    "%matplotlib inline\n",
    "\n",
    "np.set_printoptions(precision = 3, suppress = True, formatter = {'float':'{:5.4f}'.format})\n",
    "\n",
    "# Sigmoid function\n",
    "sigmoid = lambda Z: 1 / (1+np.exp(-Z))\n",
    "dsigmoid = lambda A: A * (1-A) # Derivative\n",
    "\n",
    "# Rectified Linear Unit (ReLU) function\n",
    "rectified = lambda Z: np.maximum(0.0, Z)\n",
    "drectified = lambda A: (A > 0) * 1.0\n",
    "\n",
    "# Linear function\n",
    "linear = lambda X, w, b: np.dot(X, w) + b\n",
    "\n",
    "# Time step (ts)\n",
    "def steps(x, step):   \n",
    "    obs = len(x) - step\n",
    "    xt = x[:obs,:]\n",
    "    for i in np.arange(1, step+1):\n",
    "        xt = np.hstack((xt, x[i:obs+i,:]))   \n",
    "    return xt"
   ]
  },
  {
   "cell_type": "markdown",
   "metadata": {},
   "source": [
    "## Mendefinisikan kelas NeuralNetwork"
   ]
  },
  {
   "cell_type": "code",
   "execution_count": 2,
   "metadata": {},
   "outputs": [],
   "source": [
    "class NeuralNetwork:\n",
    "    \n",
    "    def __init__(self, x, y, hlayers, alpha): # ada h nodes di dalam hidden layer\n",
    "        self.X = x #input\n",
    "        self.y = y #output\n",
    "        self.α = alpha\n",
    "        \n",
    "        # Mengecek tipe data input\n",
    "        assert np.ndim(y) == 2\n",
    "        assert type(hlayers) == list\n",
    "        \n",
    "        ni = np.shape(x)[1]  # jumlah features\n",
    "        self.N, no = np.shape(y)   # jumlah observasi, jumlah output\n",
    "        \n",
    "        neurons = [ni]\n",
    "        neurons.extend(hlayers)\n",
    "        neurons.append(no)   #jumlah neurons per layer, termasuk input layer \n",
    "        self.nlayers = len(neurons) - 1  #number of layers (tidak termasuk input layer)\n",
    "\n",
    "        \"Initial values untuk parameter w and b\"\n",
    "        self.w, self.b = [], []\n",
    "        for i in np.arange(self.nlayers):\n",
    "            self.w.append(np.random.randn(neurons[i], neurons[i+1]))  #Sinapsis dari layer ke i menuju layer ke (i+1)\n",
    "            self.b.append(np.random.randn(1, neurons[i+1]))           #Bias di layer ke (i+1)    \n",
    "            \n",
    "    def forward_propagation(self, X, y):\n",
    "        \"Forward propagation (perambatan maju)\"\n",
    "        N = np.shape(y)[0]\n",
    "        Z, A = [], [X]\n",
    "        for j in np.arange(self.nlayers):\n",
    "            Z.append(linear(A[j], self.w[j], self.b[j]))  #Reaksi kimia di layer ke (j + 1)\n",
    "            A.append(sigmoid(Z[j]))     #Aliran listrik di layer ke (j + 1)\n",
    "    \n",
    "        y_predicted = A[self.nlayers]\n",
    "        e = y - y_predicted\n",
    "        Cost = np.dot(e.T, e) / (N - 0.000001)  #mean squared error\n",
    "        \n",
    "#         print('MSE: %8.7f'%self.Cost)\n",
    "        return Z, A, y_predicted, Cost, e\n",
    "\n",
    "    def training(self):\n",
    "        \n",
    "        \"Forward propagation (perambatan maju)\"\n",
    "        Z, A, y_predicted, Cost, e = self.forward_propagation(self.X, self.y)\n",
    "        self.training_cost = Cost\n",
    "        self.y_train_hat = y_predicted\n",
    "\n",
    "        \"Backward propagation (perambatan mundur)\"\n",
    "    \n",
    "        dCdZ = [(-2 * e / self.N) * dsigmoid(A[::-1][0])]  #dalam bentuk list agar bisa di-append,\n",
    "                                                     #dimulai dari layer terakhir \n",
    "        for m in np.arange(self.nlayers - 1):  #dan mundur ke layer berikutnya, sampai hidden layer pertama\n",
    "            dCdZ.append( np.dot(dCdZ[m], self.w[::-1][m].T) * dsigmoid(A[::-1][m+1]) )   #delta\n",
    "        \n",
    "        \"Perubahan parameters (w dan b):\"\n",
    "    \n",
    "        one = np.ones([1, self.N])\n",
    "        dCdw, dCdb = [], []   #dalam bentuk list agar bisa di-append\n",
    "    \n",
    "        for n in np.arange(self.nlayers): \n",
    "            \"Algoritma gradient descents\"\n",
    "        \n",
    "            dCdw.append( np.dot(A[n].T, dCdZ[::-1][n]) )  #Dapatkan gradients untuk w dari dCdZ\n",
    "            self.w[n] -= self.α * dCdw[n]   #Parameter w di-update \n",
    "        \n",
    "            dCdb.append( np.dot(one, dCdZ[::-1][n]) )     #Dapatkan gradients untuk b dari dCdZ\n",
    "            self.b[n] -= self.α * dCdb[n]   #Parameter b di-update\n",
    "            \n",
    "    def testing(self, X_test, y_test):\n",
    "        Z, A, y_predicted, cost, e = self.forward_propagation(X_test, y_test)\n",
    "        self.y_test_hat = y_predicted\n",
    "        self.testing_cost = cost"
   ]
  },
  {
   "cell_type": "markdown",
   "metadata": {},
   "source": [
    "## Memprediksi Saham HPE"
   ]
  },
  {
   "cell_type": "code",
   "execution_count": 3,
   "metadata": {},
   "outputs": [
    {
     "name": "stdout",
     "output_type": "stream",
     "text": [
      "TRAINING MODEL...\n",
      "==================================================================================================== 100 %\n",
      "MSE training: 0.0004850\n",
      "                        Epoch       MSE\n",
      "Time                                   \n",
      "0 days 00:00:02.358998   2000  0.001664\n",
      "0 days 00:00:04.774998   4000  0.001107\n",
      "0 days 00:00:06.481044   6000  0.000726\n",
      "0 days 00:00:08.478005   8000  0.000540\n",
      "0 days 00:00:10.160995  10000  0.000485\n",
      "\n",
      "TESTING MODEL...\n",
      "MSE testing: 0.0007873\n"
     ]
    },
    {
     "data": {
      "image/png": "[encoded data removed]",
      "text/plain": [
       "<Figure size 864x288 with 2 Axes>"
      ]
     },
     "metadata": {
      "needs_background": "light"
     },
     "output_type": "display_data"
    },
    {
     "name": "stdout",
     "output_type": "stream",
     "text": [
      "\n",
      "Time passed for training and testing: 0:00:11.348012\n"
     ]
    }
   ],
   "source": [
    "# url = \"https://query1.finance.yahoo.com/v7/finance/download/HPE?period1=1449705600&period2=1613952000&interval=1d&events=history&includeAdjustedClose=true\"\n",
    "url = \"HPE.csv\"\n",
    "A  = pd.read_csv(url)\n",
    "A_adjclose = A['Adj Close'].values   #Ambil kolom ke enam berisi 'Adj Close', \n",
    "B  = A_adjclose[:, np.newaxis]  \n",
    "Bmax = B.max()\n",
    "Bmin = B.min()\n",
    "\n",
    "# Normalisasi data menjadi antara -1 dan 1\n",
    "b = (B - Bmin) / (Bmax - Bmin)\n",
    "\n",
    "ts = 1 # jarak data yang akan diprediksi, di hari ke-i (variabel x), akan diprediksi data hari ke-(i+ts) (variabel y)\n",
    "xt = steps(b, ts)  # matriks dengan (ts+1) kolom, kolom pertama menjadi variabel X\n",
    "                   # dan kolom terkhir menjadi variabel y\n",
    "\n",
    "x = xt[:,:] # ambil semua data\n",
    "div = 900\n",
    "# Data untuk training\n",
    "X = x[0:div, :-1]  #Ambil 680 observasi yang pertama dan hilangkan kolom terakhir\n",
    "y = x[0:div:, -1:]  #Ambil 680 observasi yang pertama dan ambil kolom terakhir sebagai variabel y \n",
    "\n",
    "# Data untuk testing\n",
    "Xtest = x[div:, :-1]   #ambil jumlah observasi sebanyak 120, hilangkan kolom terakhir (untuk y)\n",
    "ytest = x[div:, -1:]   #ambil kolom terakhir\n",
    "\n",
    "# Menentukkan banyaknya hidden layers\n",
    "hlayers = [4, 2]  # Dua hidden layers, masing-masing dengan 4 neurons dan 2 neurons\n",
    "alpha   = 6 # learning rate\n",
    "epochs  = 10000\n",
    "\n",
    "np.random.seed(20210222)\n",
    "\n",
    "tic = datetime.now()\n",
    "\n",
    "# TRAINING\n",
    "print(\"TRAINING MODEL...\")\n",
    "mse = []\n",
    "ann = NeuralNetwork(X, y, hlayers, alpha)\n",
    "for t in range(epochs): \n",
    "    ann.training()\n",
    "    if (t+1)%(epochs/10) == 0:   #tampilkan output lima kali\n",
    "#         print( \"{0} \\t|\\t {1} \\t\\t|\\t {2:7.7f}\".format(datetime.now()-tic, t+1, ann.training_cost[0][0]) )\n",
    "        progress = int((t+1)/epochs*100)\n",
    "        print(\"=\"*progress, progress, \"%\", end=\"\\r\")\n",
    "        mse.append([datetime.now()-tic, t+1, ann.training_cost[0][0]])\n",
    "        \n",
    "print('\\nMSE training: %7.7f'%ann.training_cost)\n",
    "training_table = pd.DataFrame(mse[1::2], columns=[\"Time\", \"Epoch\", \"MSE\"])\n",
    "training_table.set_index('Time', inplace=True)\n",
    "print(training_table)\n",
    "\n",
    "# TESTING\n",
    "print(\"\\nTESTING MODEL...\")\n",
    "ann.testing(Xtest, ytest)\n",
    "print('MSE testing: %7.7f'%ann.testing_cost)\n",
    "\n",
    "\n",
    "# Mengembalikan skala data ke original unit dalam satuan dolar\n",
    "y_train = y * (Bmax - Bmin) + Bmin\n",
    "y_train_hat = ann.y_train_hat * (Bmax - Bmin) + Bmin\n",
    "ytesto = ytest * (Bmax - Bmin) + Bmin\n",
    "ytesthato = ann.y_test_hat * (Bmax - Bmin) + Bmin\n",
    "\n",
    "# Plot\n",
    "wr1 = int(div/len(x)*10)\n",
    "wr2 = int((len(x)-div)/len(x)*10)\n",
    "fig, ax = plt.subplots(1, 2, sharey=True, figsize=(12, 4), gridspec_kw={'width_ratios': [wr1, wr2]})\n",
    "\n",
    "ax[0].set_title('Training')\n",
    "ax[0].plot(y_train, label = 'actual series')\n",
    "ax[0].plot(y_train_hat, label = 'predicted series')\n",
    "ax[1].set_title('Testing')\n",
    "ax[1].plot(ytesto, label='actual series')\n",
    "ax[1].plot(ytesthato, label='predicted series')\n",
    "ax[0].legend(loc='lower right')\n",
    "plt.show()\n",
    "\n",
    "print(\"\\nTime passed for training and testing: {}\".format(datetime.now()-tic))"
   ]
  },
  {
   "cell_type": "code",
   "execution_count": 4,
   "metadata": {},
   "outputs": [
    {
     "name": "stdout",
     "output_type": "stream",
     "text": [
      "Parameter w:\n",
      "[array([[-4.5912, 4.8542, 1.5188, -3.5605]]), array([[1.4622, 3.0664],\n",
      "       [-3.5857, -2.8876],\n",
      "       [-1.3020, -0.9478],\n",
      "       [0.8548, 2.2919]]), array([[-3.7881],\n",
      "       [-5.5899]])]\n",
      "Parameter b:\n",
      "[array([[-0.5734, -5.0079, -1.9762, -0.7941]]), array([[1.2671, -1.1305]]), array([[3.9353]])]\n"
     ]
    }
   ],
   "source": [
    "print(\"Parameter w:\")\n",
    "print(ann.w)\n",
    "print(\"Parameter b:\")\n",
    "print(ann.b)"
   ]
  }
 ],
 "metadata": {
  "kernelspec": {
   "display_name": "Python 3",
   "language": "python",
   "name": "python3"
  },
  "language_info": {
   "codemirror_mode": {
    "name": "ipython",
    "version": 3
   },
   "file_extension": ".py",
   "mimetype": "text/x-python",
   "name": "python",
   "nbconvert_exporter": "python",
   "pygments_lexer": "ipython3",
   "version": "3.8.7"
  }
 },
 "nbformat": 4,
 "nbformat_minor": 4
}
